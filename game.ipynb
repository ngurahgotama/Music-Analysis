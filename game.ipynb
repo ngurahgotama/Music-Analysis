{
 "cells": [
  {
   "attachments": {},
   "cell_type": "markdown",
   "id": "fd52b1ab",
   "metadata": {},
   "source": [
    "# Daftar isi\n",
    "\n",
    "1. Pendahuluan : Menemukan Game Paling Potensial\n",
    "\n",
    "    1.1 Tujuan\n",
    "\n",
    "    1.2 Tahapan\n",
    "    \n",
    "2. Eksplorasi Data\n",
    "    \n",
    "    2.1 Memperbaiki Data\n",
    "\n",
    "3. Analisis\n",
    "\n",
    "4. Uji Hipotesis\n",
    "\n",
    "5. Kesimpulan\n",
    "\n",
    "    \n",
    "    "
   ]
  },
  {
   "attachments": {},
   "cell_type": "markdown",
   "id": "3f73a37b",
   "metadata": {},
   "source": [
    "# 1.Menemukan Game Paling Potensial\n",
    "\n",
    "Toko daring 'Ice' merupakan toko yang  menjual game dari seluruh dunia. Seiring dengan berkembangnya teknologi, Toko daring 'Ice' sudah mulai beradaptasi dengan platform online.\n",
    "Data terkait mengenai pengguna dan ahli game, genre, platform (misalnya Xbox atau PlayStation), dan data historis penjualan game mudah ditemukan di internet. Melakukan identifikasi dengan menganalisa informasi yang ada pada internet bisa menjadi salah satu opsi untuk menentukan apakah suatu game dikatakan berhasil atau tidak. Hal ini memberikan informasi mengenai game yang paling potensian sehingga Toko daring 'Ice' bisa memaksimalkan kampanye iklannya."
   ]
  },
  {
   "attachments": {},
   "cell_type": "markdown",
   "id": "1864ca8e",
   "metadata": {},
   "source": [
    "## 1.1 Tujuan\n",
    "\n",
    "Tujuan dari studi kasus berikut adalah mengidentifikasi pola-pola yang menentukan sebuah game dapat dikatakan berhasil atau tidak dengan harapan untuk menemukan game yang paling berpotensial untuk membuat rencana iklan"
   ]
  },
  {
   "attachments": {},
   "cell_type": "markdown",
   "id": "1faae32a",
   "metadata": {},
   "source": [
    "## 1.2 Tahapan\n",
    "\n",
    "Sumber data penelitian ini adalah ESRB yang merupakan singkatan dari Entertaiment Software Rating Board. ESRB merupakan organisai regulator mandiri yang mengevaluasi konten game dan memberikan rating usia seperti remaja atau dewasa. Penelitian ini terdiri dari beberapa tahapan yaitu tahapan pertama adalah eksplorasi data yaitu memuat semua library dan file yang dibutuhkan untuk selanjutnya dipelajari untuk menentukan perbaikan dan peningkatan kualitas data. Tahapan analisis adalah proses selanjutnya yaitu mempelajari bagaimana distribusi data secara statistik dan membuat visualisasinya agar pola distribusi lebih mudah dipelajari. Untuk tahapan terakhir adalah proses uji analisis dengan menerapakan uji hipotesis untuk membuktikan bagaimana korelasi data apakah sesuai dengan rumusan masalah yang dibuat."
   ]
  },
  {
   "attachments": {},
   "cell_type": "markdown",
   "id": "9bd693a6",
   "metadata": {},
   "source": [
    "# 2. Eksplorasi Data"
   ]
  },
  {
   "cell_type": "code",
   "execution_count": 116,
   "metadata": {},
   "outputs": [],
   "source": [
    "#Muat semua library\n",
    "\n",
    "import pandas as pd\n",
    "import numpy as np\n",
    "import matplotlib.pyplot as plt\n",
    "import seaborn as sns\n",
    "from scipy import stats as st"
   ]
  },
  {
   "cell_type": "code",
   "execution_count": 117,
   "id": "71136923",
   "metadata": {},
   "outputs": [],
   "source": [
    "#Muat file ke dalam dataframe\n",
    "\n",
    "try:\n",
    "    data = pd.read_csv('games.csv')\n",
    "except:\n",
    "    data = pd.read_csv('/datasets/games.csv')"
   ]
  },
  {
   "cell_type": "code",
   "execution_count": 118,
   "id": "25b3a8d9",
   "metadata": {},
   "outputs": [
    {
     "data": {
      "text/html": [
       "<div>\n",
       "<style scoped>\n",
       "    .dataframe tbody tr th:only-of-type {\n",
       "        vertical-align: middle;\n",
       "    }\n",
       "\n",
       "    .dataframe tbody tr th {\n",
       "        vertical-align: top;\n",
       "    }\n",
       "\n",
       "    .dataframe thead th {\n",
       "        text-align: right;\n",
       "    }\n",
       "</style>\n",
       "<table border=\"1\" class=\"dataframe\">\n",
       "  <thead>\n",
       "    <tr style=\"text-align: right;\">\n",
       "      <th></th>\n",
       "      <th>Name</th>\n",
       "      <th>Platform</th>\n",
       "      <th>Year_of_Release</th>\n",
       "      <th>Genre</th>\n",
       "      <th>NA_sales</th>\n",
       "      <th>EU_sales</th>\n",
       "      <th>JP_sales</th>\n",
       "      <th>Other_sales</th>\n",
       "      <th>Critic_Score</th>\n",
       "      <th>User_Score</th>\n",
       "      <th>Rating</th>\n",
       "    </tr>\n",
       "  </thead>\n",
       "  <tbody>\n",
       "    <tr>\n",
       "      <th>0</th>\n",
       "      <td>Wii Sports</td>\n",
       "      <td>Wii</td>\n",
       "      <td>2006.0</td>\n",
       "      <td>Sports</td>\n",
       "      <td>41.36</td>\n",
       "      <td>28.96</td>\n",
       "      <td>3.77</td>\n",
       "      <td>8.45</td>\n",
       "      <td>76.0</td>\n",
       "      <td>8</td>\n",
       "      <td>E</td>\n",
       "    </tr>\n",
       "    <tr>\n",
       "      <th>1</th>\n",
       "      <td>Super Mario Bros.</td>\n",
       "      <td>NES</td>\n",
       "      <td>1985.0</td>\n",
       "      <td>Platform</td>\n",
       "      <td>29.08</td>\n",
       "      <td>3.58</td>\n",
       "      <td>6.81</td>\n",
       "      <td>0.77</td>\n",
       "      <td>NaN</td>\n",
       "      <td>NaN</td>\n",
       "      <td>NaN</td>\n",
       "    </tr>\n",
       "    <tr>\n",
       "      <th>2</th>\n",
       "      <td>Mario Kart Wii</td>\n",
       "      <td>Wii</td>\n",
       "      <td>2008.0</td>\n",
       "      <td>Racing</td>\n",
       "      <td>15.68</td>\n",
       "      <td>12.76</td>\n",
       "      <td>3.79</td>\n",
       "      <td>3.29</td>\n",
       "      <td>82.0</td>\n",
       "      <td>8.3</td>\n",
       "      <td>E</td>\n",
       "    </tr>\n",
       "    <tr>\n",
       "      <th>3</th>\n",
       "      <td>Wii Sports Resort</td>\n",
       "      <td>Wii</td>\n",
       "      <td>2009.0</td>\n",
       "      <td>Sports</td>\n",
       "      <td>15.61</td>\n",
       "      <td>10.93</td>\n",
       "      <td>3.28</td>\n",
       "      <td>2.95</td>\n",
       "      <td>80.0</td>\n",
       "      <td>8</td>\n",
       "      <td>E</td>\n",
       "    </tr>\n",
       "    <tr>\n",
       "      <th>4</th>\n",
       "      <td>Pokemon Red/Pokemon Blue</td>\n",
       "      <td>GB</td>\n",
       "      <td>1996.0</td>\n",
       "      <td>Role-Playing</td>\n",
       "      <td>11.27</td>\n",
       "      <td>8.89</td>\n",
       "      <td>10.22</td>\n",
       "      <td>1.00</td>\n",
       "      <td>NaN</td>\n",
       "      <td>NaN</td>\n",
       "      <td>NaN</td>\n",
       "    </tr>\n",
       "  </tbody>\n",
       "</table>\n",
       "</div>"
      ],
      "text/plain": [
       "                       Name Platform  Year_of_Release         Genre  NA_sales  \\\n",
       "0                Wii Sports      Wii           2006.0        Sports     41.36   \n",
       "1         Super Mario Bros.      NES           1985.0      Platform     29.08   \n",
       "2            Mario Kart Wii      Wii           2008.0        Racing     15.68   \n",
       "3         Wii Sports Resort      Wii           2009.0        Sports     15.61   \n",
       "4  Pokemon Red/Pokemon Blue       GB           1996.0  Role-Playing     11.27   \n",
       "\n",
       "   EU_sales  JP_sales  Other_sales  Critic_Score User_Score Rating  \n",
       "0     28.96      3.77         8.45          76.0          8      E  \n",
       "1      3.58      6.81         0.77           NaN        NaN    NaN  \n",
       "2     12.76      3.79         3.29          82.0        8.3      E  \n",
       "3     10.93      3.28         2.95          80.0          8      E  \n",
       "4      8.89     10.22         1.00           NaN        NaN    NaN  "
      ]
     },
     "execution_count": 118,
     "metadata": {},
     "output_type": "execute_result"
    }
   ],
   "source": [
    "#Menampilkan data\n",
    "\n",
    "data.head()"
   ]
  },
  {
   "cell_type": "code",
   "execution_count": 119,
   "id": "aeb1839a",
   "metadata": {},
   "outputs": [
    {
     "name": "stdout",
     "output_type": "stream",
     "text": [
      "<class 'pandas.core.frame.DataFrame'>\n",
      "RangeIndex: 16715 entries, 0 to 16714\n",
      "Data columns (total 11 columns):\n",
      " #   Column           Non-Null Count  Dtype  \n",
      "---  ------           --------------  -----  \n",
      " 0   Name             16713 non-null  object \n",
      " 1   Platform         16715 non-null  object \n",
      " 2   Year_of_Release  16446 non-null  float64\n",
      " 3   Genre            16713 non-null  object \n",
      " 4   NA_sales         16715 non-null  float64\n",
      " 5   EU_sales         16715 non-null  float64\n",
      " 6   JP_sales         16715 non-null  float64\n",
      " 7   Other_sales      16715 non-null  float64\n",
      " 8   Critic_Score     8137 non-null   float64\n",
      " 9   User_Score       10014 non-null  object \n",
      " 10  Rating           9949 non-null   object \n",
      "dtypes: float64(6), object(5)\n",
      "memory usage: 1.4+ MB\n"
     ]
    }
   ],
   "source": [
    "#Menampilkan informasi data\n",
    "data.info()"
   ]
  },
  {
   "cell_type": "code",
   "execution_count": 120,
   "id": "e6040795",
   "metadata": {},
   "outputs": [
    {
     "data": {
      "text/html": [
       "<div>\n",
       "<style scoped>\n",
       "    .dataframe tbody tr th:only-of-type {\n",
       "        vertical-align: middle;\n",
       "    }\n",
       "\n",
       "    .dataframe tbody tr th {\n",
       "        vertical-align: top;\n",
       "    }\n",
       "\n",
       "    .dataframe thead th {\n",
       "        text-align: right;\n",
       "    }\n",
       "</style>\n",
       "<table border=\"1\" class=\"dataframe\">\n",
       "  <thead>\n",
       "    <tr style=\"text-align: right;\">\n",
       "      <th></th>\n",
       "      <th>Year_of_Release</th>\n",
       "      <th>NA_sales</th>\n",
       "      <th>EU_sales</th>\n",
       "      <th>JP_sales</th>\n",
       "      <th>Other_sales</th>\n",
       "      <th>Critic_Score</th>\n",
       "    </tr>\n",
       "  </thead>\n",
       "  <tbody>\n",
       "    <tr>\n",
       "      <th>count</th>\n",
       "      <td>16446.000000</td>\n",
       "      <td>16715.000000</td>\n",
       "      <td>16715.000000</td>\n",
       "      <td>16715.000000</td>\n",
       "      <td>16715.000000</td>\n",
       "      <td>8137.000000</td>\n",
       "    </tr>\n",
       "    <tr>\n",
       "      <th>mean</th>\n",
       "      <td>2006.484616</td>\n",
       "      <td>0.263377</td>\n",
       "      <td>0.145060</td>\n",
       "      <td>0.077617</td>\n",
       "      <td>0.047342</td>\n",
       "      <td>68.967679</td>\n",
       "    </tr>\n",
       "    <tr>\n",
       "      <th>std</th>\n",
       "      <td>5.877050</td>\n",
       "      <td>0.813604</td>\n",
       "      <td>0.503339</td>\n",
       "      <td>0.308853</td>\n",
       "      <td>0.186731</td>\n",
       "      <td>13.938165</td>\n",
       "    </tr>\n",
       "    <tr>\n",
       "      <th>min</th>\n",
       "      <td>1980.000000</td>\n",
       "      <td>0.000000</td>\n",
       "      <td>0.000000</td>\n",
       "      <td>0.000000</td>\n",
       "      <td>0.000000</td>\n",
       "      <td>13.000000</td>\n",
       "    </tr>\n",
       "    <tr>\n",
       "      <th>25%</th>\n",
       "      <td>2003.000000</td>\n",
       "      <td>0.000000</td>\n",
       "      <td>0.000000</td>\n",
       "      <td>0.000000</td>\n",
       "      <td>0.000000</td>\n",
       "      <td>60.000000</td>\n",
       "    </tr>\n",
       "    <tr>\n",
       "      <th>50%</th>\n",
       "      <td>2007.000000</td>\n",
       "      <td>0.080000</td>\n",
       "      <td>0.020000</td>\n",
       "      <td>0.000000</td>\n",
       "      <td>0.010000</td>\n",
       "      <td>71.000000</td>\n",
       "    </tr>\n",
       "    <tr>\n",
       "      <th>75%</th>\n",
       "      <td>2010.000000</td>\n",
       "      <td>0.240000</td>\n",
       "      <td>0.110000</td>\n",
       "      <td>0.040000</td>\n",
       "      <td>0.030000</td>\n",
       "      <td>79.000000</td>\n",
       "    </tr>\n",
       "    <tr>\n",
       "      <th>max</th>\n",
       "      <td>2016.000000</td>\n",
       "      <td>41.360000</td>\n",
       "      <td>28.960000</td>\n",
       "      <td>10.220000</td>\n",
       "      <td>10.570000</td>\n",
       "      <td>98.000000</td>\n",
       "    </tr>\n",
       "  </tbody>\n",
       "</table>\n",
       "</div>"
      ],
      "text/plain": [
       "       Year_of_Release      NA_sales      EU_sales      JP_sales  \\\n",
       "count     16446.000000  16715.000000  16715.000000  16715.000000   \n",
       "mean       2006.484616      0.263377      0.145060      0.077617   \n",
       "std           5.877050      0.813604      0.503339      0.308853   \n",
       "min        1980.000000      0.000000      0.000000      0.000000   \n",
       "25%        2003.000000      0.000000      0.000000      0.000000   \n",
       "50%        2007.000000      0.080000      0.020000      0.000000   \n",
       "75%        2010.000000      0.240000      0.110000      0.040000   \n",
       "max        2016.000000     41.360000     28.960000     10.220000   \n",
       "\n",
       "        Other_sales  Critic_Score  \n",
       "count  16715.000000   8137.000000  \n",
       "mean       0.047342     68.967679  \n",
       "std        0.186731     13.938165  \n",
       "min        0.000000     13.000000  \n",
       "25%        0.000000     60.000000  \n",
       "50%        0.010000     71.000000  \n",
       "75%        0.030000     79.000000  \n",
       "max       10.570000     98.000000  "
      ]
     },
     "execution_count": 120,
     "metadata": {},
     "output_type": "execute_result"
    }
   ],
   "source": [
    "#Menampilkan informasi statistik\n",
    "data.describe()"
   ]
  },
  {
   "attachments": {},
   "cell_type": "markdown",
   "id": "06fc2dc9",
   "metadata": {},
   "source": [
    "## 2.1 Memperbaiki Data"
   ]
  },
  {
   "attachments": {},
   "cell_type": "markdown",
   "id": "7069aacd",
   "metadata": {},
   "source": [
    "Semua tahapan awal sudah dilakukan mulai dari memuat library hingga proses menampilkan sampel data. Dari hasil pengamatan terlihat bahwa nama kolom menggunakan kapital ini perlu dilakukan konversi untuk keseragaman format data. Beberapa kolom menggunakan tipe yang kurang tepat, ini juga bisa membuat proses agregasi data tidak optimal. Selanjutnya dari jumlah baris, indikasi adanya beberapa nilai data yang hilang. Beberapa hasil pengamata diatas bersifat sementara, tidak menutup kemungkinan melakukan perbaikan di tahap selanjutnya."
   ]
  },
  {
   "cell_type": "code",
   "execution_count": 121,
   "id": "fe180cce",
   "metadata": {},
   "outputs": [
    {
     "name": "stdout",
     "output_type": "stream",
     "text": [
      "<class 'pandas.core.frame.DataFrame'>\n",
      "RangeIndex: 16715 entries, 0 to 16714\n",
      "Data columns (total 11 columns):\n",
      " #   Column           Non-Null Count  Dtype  \n",
      "---  ------           --------------  -----  \n",
      " 0   name             16713 non-null  object \n",
      " 1   platform         16715 non-null  object \n",
      " 2   year_of_release  16446 non-null  float64\n",
      " 3   genre            16713 non-null  object \n",
      " 4   na_sales         16715 non-null  float64\n",
      " 5   eu_sales         16715 non-null  float64\n",
      " 6   jp_sales         16715 non-null  float64\n",
      " 7   other_sales      16715 non-null  float64\n",
      " 8   critic_score     8137 non-null   float64\n",
      " 9   user_score       10014 non-null  object \n",
      " 10  rating           9949 non-null   object \n",
      "dtypes: float64(6), object(5)\n",
      "memory usage: 1.4+ MB\n"
     ]
    }
   ],
   "source": [
    "#Merubah semua kolom menjadi huruf kecil\n",
    "\n",
    "data.columns = data.columns.str.lower()\n",
    "data.info()"
   ]
  },
  {
   "cell_type": "code",
   "execution_count": 122,
   "id": "bd7bf5c5",
   "metadata": {},
   "outputs": [],
   "source": [
    "#menghitung total dan persentase dari missing value\n",
    "total = data.isna().sum().sort_values(ascending=False)\n",
    "percentage = ((data.isna().sum()/data.isna().count())*100).sort_values(ascending=False)\n",
    "\n"
   ]
  },
  {
   "cell_type": "code",
   "execution_count": 123,
   "id": "f20e6701",
   "metadata": {},
   "outputs": [
    {
     "data": {
      "text/html": [
       "<div>\n",
       "<style scoped>\n",
       "    .dataframe tbody tr th:only-of-type {\n",
       "        vertical-align: middle;\n",
       "    }\n",
       "\n",
       "    .dataframe tbody tr th {\n",
       "        vertical-align: top;\n",
       "    }\n",
       "\n",
       "    .dataframe thead th {\n",
       "        text-align: right;\n",
       "    }\n",
       "</style>\n",
       "<table border=\"1\" class=\"dataframe\">\n",
       "  <thead>\n",
       "    <tr style=\"text-align: right;\">\n",
       "      <th></th>\n",
       "      <th>total</th>\n",
       "      <th>percentage</th>\n",
       "    </tr>\n",
       "  </thead>\n",
       "  <tbody>\n",
       "    <tr>\n",
       "      <th>critic_score</th>\n",
       "      <td>8578</td>\n",
       "      <td>51.319174</td>\n",
       "    </tr>\n",
       "    <tr>\n",
       "      <th>rating</th>\n",
       "      <td>6766</td>\n",
       "      <td>40.478612</td>\n",
       "    </tr>\n",
       "    <tr>\n",
       "      <th>user_score</th>\n",
       "      <td>6701</td>\n",
       "      <td>40.089740</td>\n",
       "    </tr>\n",
       "    <tr>\n",
       "      <th>year_of_release</th>\n",
       "      <td>269</td>\n",
       "      <td>1.609333</td>\n",
       "    </tr>\n",
       "    <tr>\n",
       "      <th>name</th>\n",
       "      <td>2</td>\n",
       "      <td>0.011965</td>\n",
       "    </tr>\n",
       "    <tr>\n",
       "      <th>genre</th>\n",
       "      <td>2</td>\n",
       "      <td>0.011965</td>\n",
       "    </tr>\n",
       "    <tr>\n",
       "      <th>platform</th>\n",
       "      <td>0</td>\n",
       "      <td>0.000000</td>\n",
       "    </tr>\n",
       "    <tr>\n",
       "      <th>na_sales</th>\n",
       "      <td>0</td>\n",
       "      <td>0.000000</td>\n",
       "    </tr>\n",
       "    <tr>\n",
       "      <th>eu_sales</th>\n",
       "      <td>0</td>\n",
       "      <td>0.000000</td>\n",
       "    </tr>\n",
       "    <tr>\n",
       "      <th>jp_sales</th>\n",
       "      <td>0</td>\n",
       "      <td>0.000000</td>\n",
       "    </tr>\n",
       "    <tr>\n",
       "      <th>other_sales</th>\n",
       "      <td>0</td>\n",
       "      <td>0.000000</td>\n",
       "    </tr>\n",
       "  </tbody>\n",
       "</table>\n",
       "</div>"
      ],
      "text/plain": [
       "                 total  percentage\n",
       "critic_score      8578   51.319174\n",
       "rating            6766   40.478612\n",
       "user_score        6701   40.089740\n",
       "year_of_release    269    1.609333\n",
       "name                 2    0.011965\n",
       "genre                2    0.011965\n",
       "platform             0    0.000000\n",
       "na_sales             0    0.000000\n",
       "eu_sales             0    0.000000\n",
       "jp_sales             0    0.000000\n",
       "other_sales          0    0.000000"
      ]
     },
     "execution_count": 123,
     "metadata": {},
     "output_type": "execute_result"
    }
   ],
   "source": [
    "#menampilkan tabel dari missing value\n",
    "missing_data = pd.concat([total,percentage], axis= 1, keys=['total','percentage'])\n",
    "missing_data"
   ]
  },
  {
   "attachments": {},
   "cell_type": "markdown",
   "id": "838c8dd1",
   "metadata": {},
   "source": [
    "Tabel missing data menunjukan total dari missing value dan berapa persentasenya di setiap kolom. Pada studi kasus ini, ada dua pendekatan yang dilakukan untuk mengatasi missing value yaitu dengan menghapus dan membuat model imputasi. Pemilihan penghapusan setidaknya dilakukan kepada proporsi data yang terhitung kecil jika tidak dapat merubah informasi secara signifikan. Berdasarkan penjelasan tersebut maka akan dilakukan penghapusan missing value pada kolom name dan genre. Untuk kolom yang lain perlu dilakukan pengamatan terlebih dahulu apakah terdapat opsi terbaik."
   ]
  },
  {
   "cell_type": "code",
   "execution_count": 124,
   "id": "8775b384",
   "metadata": {},
   "outputs": [
    {
     "data": {
      "text/plain": [
       "name                  0\n",
       "platform              0\n",
       "year_of_release     269\n",
       "genre                 0\n",
       "na_sales              0\n",
       "eu_sales              0\n",
       "jp_sales              0\n",
       "other_sales           0\n",
       "critic_score       8576\n",
       "user_score         6699\n",
       "rating             6764\n",
       "dtype: int64"
      ]
     },
     "execution_count": 124,
     "metadata": {},
     "output_type": "execute_result"
    }
   ],
   "source": [
    "#Menghapus missing value pada kolom name dan genre\n",
    "data.dropna(\n",
    "    subset = ['name','genre'], \n",
    "    how='any', \n",
    "    inplace=True\n",
    "    )\n",
    "data.isna().sum()"
   ]
  },
  {
   "attachments": {},
   "cell_type": "markdown",
   "id": "40fc3671",
   "metadata": {},
   "source": [
    "name dan genre sudah menunjukan bebas dari adanya missing value. Selanjutnya adalah mengatasi missing value pada pada kolom yang memiliki nilai numerik. Kondisi ini seharusnya bisa diatasi dengan menerapkan imputasti ke nilai data yang hilang. Model imputasi yang digunakan adalah dengan menggunakan nilai median dari kolom data yang hilang. Pemilihan nilai median merupakan opsi terbaik ketika data memiliki nilai outlier yang tinggi. Tahap selanjutnya adalah membuat model imputasi berdasarkan platform game. "
   ]
  },
  {
   "cell_type": "code",
   "execution_count": 125,
   "id": "a89ea353",
   "metadata": {},
   "outputs": [],
   "source": [
    "#membuat dataframe year_of_release berdasarkan platform\n",
    "\n",
    "year_of_release = data.groupby('platform')['year_of_release'].median()"
   ]
  },
  {
   "cell_type": "code",
   "execution_count": 126,
   "id": "c360b349",
   "metadata": {},
   "outputs": [],
   "source": [
    "#membuat model imputasi\n",
    "\n",
    "def median_year(row):\n",
    "    if np.isnan(row['year_of_release']):\n",
    "        return year_of_release.get(row['platform'])\n",
    "        \n",
    "    return row['year_of_release']"
   ]
  },
  {
   "cell_type": "code",
   "execution_count": 127,
   "id": "6d624dc1",
   "metadata": {},
   "outputs": [],
   "source": [
    "#mengatasi missing value pada year_of_release\n",
    "\n",
    "data['year_of_release'] = data.apply(median_year, axis=1)"
   ]
  },
  {
   "cell_type": "code",
   "execution_count": 128,
   "id": "37bf7e74",
   "metadata": {},
   "outputs": [],
   "source": [
    "#mengganti tipe data\n",
    "data['year_of_release'] = data['year_of_release'].astype('int')"
   ]
  },
  {
   "cell_type": "code",
   "execution_count": 129,
   "id": "a81b259f",
   "metadata": {},
   "outputs": [
    {
     "name": "stdout",
     "output_type": "stream",
     "text": [
      "<class 'pandas.core.frame.DataFrame'>\n",
      "Int64Index: 16713 entries, 0 to 16714\n",
      "Data columns (total 11 columns):\n",
      " #   Column           Non-Null Count  Dtype  \n",
      "---  ------           --------------  -----  \n",
      " 0   name             16713 non-null  object \n",
      " 1   platform         16713 non-null  object \n",
      " 2   year_of_release  16713 non-null  int64  \n",
      " 3   genre            16713 non-null  object \n",
      " 4   na_sales         16713 non-null  float64\n",
      " 5   eu_sales         16713 non-null  float64\n",
      " 6   jp_sales         16713 non-null  float64\n",
      " 7   other_sales      16713 non-null  float64\n",
      " 8   critic_score     8137 non-null   float64\n",
      " 9   user_score       10014 non-null  object \n",
      " 10  rating           9949 non-null   object \n",
      "dtypes: float64(5), int64(1), object(5)\n",
      "memory usage: 1.5+ MB\n"
     ]
    }
   ],
   "source": [
    "data.info()"
   ]
  },
  {
   "attachments": {},
   "cell_type": "markdown",
   "id": "9df496b9",
   "metadata": {},
   "source": [
    "### critic_score"
   ]
  },
  {
   "cell_type": "code",
   "execution_count": 130,
   "id": "3162262e",
   "metadata": {},
   "outputs": [],
   "source": [
    "#membuat dataframe critic_score berdasarkan platform\n",
    "\n",
    "critic_score = data.groupby('platform')['critic_score'].median()"
   ]
  },
  {
   "cell_type": "code",
   "execution_count": 131,
   "id": "018cb287",
   "metadata": {},
   "outputs": [],
   "source": [
    "#membuat model imputasi\n",
    "\n",
    "def median_score(row):\n",
    "    if np.isnan(row['critic_score']):\n",
    "        return critic_score.get(row['platform'])\n",
    "        \n",
    "    return row['critic_score']"
   ]
  },
  {
   "cell_type": "code",
   "execution_count": 132,
   "id": "4ac086c2",
   "metadata": {},
   "outputs": [],
   "source": [
    "#mengatasi missing value pada critic_score\n",
    "\n",
    "data['critic_score'] = data.apply(median_score, axis=1)"
   ]
  },
  {
   "cell_type": "code",
   "execution_count": 133,
   "id": "f4cf8454",
   "metadata": {},
   "outputs": [],
   "source": [
    "data['critic_score'] = data['critic_score'].fillna(data['critic_score'].median())"
   ]
  },
  {
   "cell_type": "code",
   "execution_count": 134,
   "id": "e8a6062c",
   "metadata": {},
   "outputs": [
    {
     "name": "stdout",
     "output_type": "stream",
     "text": [
      "<class 'pandas.core.frame.DataFrame'>\n",
      "Int64Index: 16713 entries, 0 to 16714\n",
      "Data columns (total 11 columns):\n",
      " #   Column           Non-Null Count  Dtype  \n",
      "---  ------           --------------  -----  \n",
      " 0   name             16713 non-null  object \n",
      " 1   platform         16713 non-null  object \n",
      " 2   year_of_release  16713 non-null  int64  \n",
      " 3   genre            16713 non-null  object \n",
      " 4   na_sales         16713 non-null  float64\n",
      " 5   eu_sales         16713 non-null  float64\n",
      " 6   jp_sales         16713 non-null  float64\n",
      " 7   other_sales      16713 non-null  float64\n",
      " 8   critic_score     16713 non-null  float64\n",
      " 9   user_score       10014 non-null  object \n",
      " 10  rating           9949 non-null   object \n",
      "dtypes: float64(5), int64(1), object(5)\n",
      "memory usage: 1.5+ MB\n"
     ]
    }
   ],
   "source": [
    "data.info()"
   ]
  },
  {
   "attachments": {},
   "cell_type": "markdown",
   "id": "e80ee20b",
   "metadata": {},
   "source": [
    "### user_score"
   ]
  },
  {
   "cell_type": "code",
   "execution_count": 135,
   "id": "0004a757",
   "metadata": {},
   "outputs": [
    {
     "data": {
      "text/plain": [
       "array(['8', nan, '8.3', '8.5', '6.6', '8.4', '8.6', '7.7', '6.3', '7.4',\n",
       "       '8.2', '9', '7.9', '8.1', '8.7', '7.1', '3.4', '5.3', '4.8', '3.2',\n",
       "       '8.9', '6.4', '7.8', '7.5', '2.6', '7.2', '9.2', '7', '7.3', '4.3',\n",
       "       '7.6', '5.7', '5', '9.1', '6.5', 'tbd', '8.8', '6.9', '9.4', '6.8',\n",
       "       '6.1', '6.7', '5.4', '4', '4.9', '4.5', '9.3', '6.2', '4.2', '6',\n",
       "       '3.7', '4.1', '5.8', '5.6', '5.5', '4.4', '4.6', '5.9', '3.9',\n",
       "       '3.1', '2.9', '5.2', '3.3', '4.7', '5.1', '3.5', '2.5', '1.9', '3',\n",
       "       '2.7', '2.2', '2', '9.5', '2.1', '3.6', '2.8', '1.8', '3.8', '0',\n",
       "       '1.6', '9.6', '2.4', '1.7', '1.1', '0.3', '1.5', '0.7', '1.2',\n",
       "       '2.3', '0.5', '1.3', '0.2', '0.6', '1.4', '0.9', '1', '9.7'],\n",
       "      dtype=object)"
      ]
     },
     "execution_count": 135,
     "metadata": {},
     "output_type": "execute_result"
    }
   ],
   "source": [
    "#eksplorasi data user_score\n",
    "data['user_score'].unique()"
   ]
  },
  {
   "attachments": {},
   "cell_type": "markdown",
   "id": "d8581905",
   "metadata": {},
   "source": [
    "Pada saat melakukan eksplorasi pada kolom user_score terdapat nilai 'tbd' pada barisnya. Hal ini mengakibatkan terhambatnya proses untuk membuat dataframe berupa nilai median sehingga perlu dilakukan penggantian kepada nilai ini dengan metode replace. Nilai tersebut akan dijadikan not a number atau missing value, untuk selanjutnya dilakukan imputasi seperti kolom sebelumnya."
   ]
  },
  {
   "cell_type": "code",
   "execution_count": 136,
   "id": "d27f9db3",
   "metadata": {},
   "outputs": [
    {
     "data": {
      "text/plain": [
       "array([8. , nan, 8.3, 8.5, 6.6, 8.4, 8.6, 7.7, 6.3, 7.4, 8.2, 9. , 7.9,\n",
       "       8.1, 8.7, 7.1, 3.4, 5.3, 4.8, 3.2, 8.9, 6.4, 7.8, 7.5, 2.6, 7.2,\n",
       "       9.2, 7. , 7.3, 4.3, 7.6, 5.7, 5. , 9.1, 6.5, 8.8, 6.9, 9.4, 6.8,\n",
       "       6.1, 6.7, 5.4, 4. , 4.9, 4.5, 9.3, 6.2, 4.2, 6. , 3.7, 4.1, 5.8,\n",
       "       5.6, 5.5, 4.4, 4.6, 5.9, 3.9, 3.1, 2.9, 5.2, 3.3, 4.7, 5.1, 3.5,\n",
       "       2.5, 1.9, 3. , 2.7, 2.2, 2. , 9.5, 2.1, 3.6, 2.8, 1.8, 3.8, 0. ,\n",
       "       1.6, 9.6, 2.4, 1.7, 1.1, 0.3, 1.5, 0.7, 1.2, 2.3, 0.5, 1.3, 0.2,\n",
       "       0.6, 1.4, 0.9, 1. , 9.7])"
      ]
     },
     "execution_count": 136,
     "metadata": {},
     "output_type": "execute_result"
    }
   ],
   "source": [
    "#memperbaiki data\n",
    "\n",
    "data['user_score'] = data['user_score'].replace({'tbd' : np.nan})\n",
    "data['user_score'] = data['user_score'].astype('float')\n",
    "\n",
    "data['user_score'].unique()"
   ]
  },
  {
   "cell_type": "code",
   "execution_count": 137,
   "id": "886346bd",
   "metadata": {},
   "outputs": [],
   "source": [
    "#membuat dataframe user_score berdasarkan platform\n",
    "\n",
    "user_score = data.groupby('platform')['user_score'].median()"
   ]
  },
  {
   "cell_type": "code",
   "execution_count": 138,
   "id": "cc56cff0",
   "metadata": {},
   "outputs": [],
   "source": [
    "#membuat model imputasi\n",
    "\n",
    "def score_by_platform(row):\n",
    "    if np.isnan(row['user_score']):\n",
    "        return user_score.get(row['platform'])\n",
    "        \n",
    "    return row['user_score']"
   ]
  },
  {
   "cell_type": "code",
   "execution_count": 139,
   "id": "d69aa490",
   "metadata": {},
   "outputs": [],
   "source": [
    "#mengatasi missing value pada user_score\n",
    "\n",
    "data['user_score'] = data.apply(score_by_platform, axis=1)"
   ]
  },
  {
   "cell_type": "code",
   "execution_count": 140,
   "id": "db95d302",
   "metadata": {},
   "outputs": [
    {
     "data": {
      "text/html": [
       "<div>\n",
       "<style scoped>\n",
       "    .dataframe tbody tr th:only-of-type {\n",
       "        vertical-align: middle;\n",
       "    }\n",
       "\n",
       "    .dataframe tbody tr th {\n",
       "        vertical-align: top;\n",
       "    }\n",
       "\n",
       "    .dataframe thead th {\n",
       "        text-align: right;\n",
       "    }\n",
       "</style>\n",
       "<table border=\"1\" class=\"dataframe\">\n",
       "  <thead>\n",
       "    <tr style=\"text-align: right;\">\n",
       "      <th></th>\n",
       "      <th>name</th>\n",
       "      <th>platform</th>\n",
       "      <th>year_of_release</th>\n",
       "      <th>genre</th>\n",
       "      <th>na_sales</th>\n",
       "      <th>eu_sales</th>\n",
       "      <th>jp_sales</th>\n",
       "      <th>other_sales</th>\n",
       "      <th>critic_score</th>\n",
       "      <th>user_score</th>\n",
       "      <th>rating</th>\n",
       "    </tr>\n",
       "  </thead>\n",
       "  <tbody>\n",
       "    <tr>\n",
       "      <th>1</th>\n",
       "      <td>Super Mario Bros.</td>\n",
       "      <td>NES</td>\n",
       "      <td>1985</td>\n",
       "      <td>Platform</td>\n",
       "      <td>29.08</td>\n",
       "      <td>3.58</td>\n",
       "      <td>6.81</td>\n",
       "      <td>0.77</td>\n",
       "      <td>70.0</td>\n",
       "      <td>NaN</td>\n",
       "      <td>NaN</td>\n",
       "    </tr>\n",
       "    <tr>\n",
       "      <th>4</th>\n",
       "      <td>Pokemon Red/Pokemon Blue</td>\n",
       "      <td>GB</td>\n",
       "      <td>1996</td>\n",
       "      <td>Role-Playing</td>\n",
       "      <td>11.27</td>\n",
       "      <td>8.89</td>\n",
       "      <td>10.22</td>\n",
       "      <td>1.00</td>\n",
       "      <td>70.0</td>\n",
       "      <td>NaN</td>\n",
       "      <td>NaN</td>\n",
       "    </tr>\n",
       "    <tr>\n",
       "      <th>5</th>\n",
       "      <td>Tetris</td>\n",
       "      <td>GB</td>\n",
       "      <td>1989</td>\n",
       "      <td>Puzzle</td>\n",
       "      <td>23.20</td>\n",
       "      <td>2.26</td>\n",
       "      <td>4.22</td>\n",
       "      <td>0.58</td>\n",
       "      <td>70.0</td>\n",
       "      <td>NaN</td>\n",
       "      <td>NaN</td>\n",
       "    </tr>\n",
       "    <tr>\n",
       "      <th>9</th>\n",
       "      <td>Duck Hunt</td>\n",
       "      <td>NES</td>\n",
       "      <td>1984</td>\n",
       "      <td>Shooter</td>\n",
       "      <td>26.93</td>\n",
       "      <td>0.63</td>\n",
       "      <td>0.28</td>\n",
       "      <td>0.47</td>\n",
       "      <td>70.0</td>\n",
       "      <td>NaN</td>\n",
       "      <td>NaN</td>\n",
       "    </tr>\n",
       "    <tr>\n",
       "      <th>12</th>\n",
       "      <td>Pokemon Gold/Pokemon Silver</td>\n",
       "      <td>GB</td>\n",
       "      <td>1999</td>\n",
       "      <td>Role-Playing</td>\n",
       "      <td>9.00</td>\n",
       "      <td>6.18</td>\n",
       "      <td>7.20</td>\n",
       "      <td>0.71</td>\n",
       "      <td>70.0</td>\n",
       "      <td>NaN</td>\n",
       "      <td>NaN</td>\n",
       "    </tr>\n",
       "    <tr>\n",
       "      <th>...</th>\n",
       "      <td>...</td>\n",
       "      <td>...</td>\n",
       "      <td>...</td>\n",
       "      <td>...</td>\n",
       "      <td>...</td>\n",
       "      <td>...</td>\n",
       "      <td>...</td>\n",
       "      <td>...</td>\n",
       "      <td>...</td>\n",
       "      <td>...</td>\n",
       "      <td>...</td>\n",
       "    </tr>\n",
       "    <tr>\n",
       "      <th>15655</th>\n",
       "      <td>Super Dodge Ball</td>\n",
       "      <td>NG</td>\n",
       "      <td>1995</td>\n",
       "      <td>Sports</td>\n",
       "      <td>0.00</td>\n",
       "      <td>0.00</td>\n",
       "      <td>0.02</td>\n",
       "      <td>0.00</td>\n",
       "      <td>70.0</td>\n",
       "      <td>NaN</td>\n",
       "      <td>NaN</td>\n",
       "    </tr>\n",
       "    <tr>\n",
       "      <th>15788</th>\n",
       "      <td>World Class Rugby 2: Kokunai Gekitou Hen '93</td>\n",
       "      <td>SNES</td>\n",
       "      <td>1994</td>\n",
       "      <td>Sports</td>\n",
       "      <td>0.00</td>\n",
       "      <td>0.00</td>\n",
       "      <td>0.02</td>\n",
       "      <td>0.00</td>\n",
       "      <td>70.0</td>\n",
       "      <td>NaN</td>\n",
       "      <td>NaN</td>\n",
       "    </tr>\n",
       "    <tr>\n",
       "      <th>16207</th>\n",
       "      <td>Rock N' Roll Racing</td>\n",
       "      <td>SNES</td>\n",
       "      <td>1993</td>\n",
       "      <td>Racing</td>\n",
       "      <td>0.00</td>\n",
       "      <td>0.00</td>\n",
       "      <td>0.01</td>\n",
       "      <td>0.00</td>\n",
       "      <td>70.0</td>\n",
       "      <td>NaN</td>\n",
       "      <td>NaN</td>\n",
       "    </tr>\n",
       "    <tr>\n",
       "      <th>16693</th>\n",
       "      <td>PGA European Tour</td>\n",
       "      <td>N64</td>\n",
       "      <td>2000</td>\n",
       "      <td>Sports</td>\n",
       "      <td>0.01</td>\n",
       "      <td>0.00</td>\n",
       "      <td>0.00</td>\n",
       "      <td>0.00</td>\n",
       "      <td>70.0</td>\n",
       "      <td>NaN</td>\n",
       "      <td>NaN</td>\n",
       "    </tr>\n",
       "    <tr>\n",
       "      <th>16694</th>\n",
       "      <td>Carmageddon 64</td>\n",
       "      <td>N64</td>\n",
       "      <td>1999</td>\n",
       "      <td>Action</td>\n",
       "      <td>0.01</td>\n",
       "      <td>0.00</td>\n",
       "      <td>0.00</td>\n",
       "      <td>0.00</td>\n",
       "      <td>70.0</td>\n",
       "      <td>NaN</td>\n",
       "      <td>NaN</td>\n",
       "    </tr>\n",
       "  </tbody>\n",
       "</table>\n",
       "<p>1118 rows × 11 columns</p>\n",
       "</div>"
      ],
      "text/plain": [
       "                                               name platform  year_of_release  \\\n",
       "1                                 Super Mario Bros.      NES             1985   \n",
       "4                          Pokemon Red/Pokemon Blue       GB             1996   \n",
       "5                                            Tetris       GB             1989   \n",
       "9                                         Duck Hunt      NES             1984   \n",
       "12                      Pokemon Gold/Pokemon Silver       GB             1999   \n",
       "...                                             ...      ...              ...   \n",
       "15655                              Super Dodge Ball       NG             1995   \n",
       "15788  World Class Rugby 2: Kokunai Gekitou Hen '93     SNES             1994   \n",
       "16207                           Rock N' Roll Racing     SNES             1993   \n",
       "16693                             PGA European Tour      N64             2000   \n",
       "16694                                Carmageddon 64      N64             1999   \n",
       "\n",
       "              genre  na_sales  eu_sales  jp_sales  other_sales  critic_score  \\\n",
       "1          Platform     29.08      3.58      6.81         0.77          70.0   \n",
       "4      Role-Playing     11.27      8.89     10.22         1.00          70.0   \n",
       "5            Puzzle     23.20      2.26      4.22         0.58          70.0   \n",
       "9           Shooter     26.93      0.63      0.28         0.47          70.0   \n",
       "12     Role-Playing      9.00      6.18      7.20         0.71          70.0   \n",
       "...             ...       ...       ...       ...          ...           ...   \n",
       "15655        Sports      0.00      0.00      0.02         0.00          70.0   \n",
       "15788        Sports      0.00      0.00      0.02         0.00          70.0   \n",
       "16207        Racing      0.00      0.00      0.01         0.00          70.0   \n",
       "16693        Sports      0.01      0.00      0.00         0.00          70.0   \n",
       "16694        Action      0.01      0.00      0.00         0.00          70.0   \n",
       "\n",
       "       user_score rating  \n",
       "1             NaN    NaN  \n",
       "4             NaN    NaN  \n",
       "5             NaN    NaN  \n",
       "9             NaN    NaN  \n",
       "12            NaN    NaN  \n",
       "...           ...    ...  \n",
       "15655         NaN    NaN  \n",
       "15788         NaN    NaN  \n",
       "16207         NaN    NaN  \n",
       "16693         NaN    NaN  \n",
       "16694         NaN    NaN  \n",
       "\n",
       "[1118 rows x 11 columns]"
      ]
     },
     "execution_count": 140,
     "metadata": {},
     "output_type": "execute_result"
    }
   ],
   "source": [
    "data[data['user_score'].isna()]"
   ]
  },
  {
   "cell_type": "code",
   "execution_count": 141,
   "id": "98eca2af",
   "metadata": {},
   "outputs": [],
   "source": [
    "data['user_score'] = data['user_score'].fillna(data['user_score'].median())"
   ]
  },
  {
   "cell_type": "code",
   "execution_count": 142,
   "id": "9ead81c1",
   "metadata": {},
   "outputs": [
    {
     "name": "stdout",
     "output_type": "stream",
     "text": [
      "<class 'pandas.core.frame.DataFrame'>\n",
      "Int64Index: 16713 entries, 0 to 16714\n",
      "Data columns (total 11 columns):\n",
      " #   Column           Non-Null Count  Dtype  \n",
      "---  ------           --------------  -----  \n",
      " 0   name             16713 non-null  object \n",
      " 1   platform         16713 non-null  object \n",
      " 2   year_of_release  16713 non-null  int64  \n",
      " 3   genre            16713 non-null  object \n",
      " 4   na_sales         16713 non-null  float64\n",
      " 5   eu_sales         16713 non-null  float64\n",
      " 6   jp_sales         16713 non-null  float64\n",
      " 7   other_sales      16713 non-null  float64\n",
      " 8   critic_score     16713 non-null  float64\n",
      " 9   user_score       16713 non-null  float64\n",
      " 10  rating           9949 non-null   object \n",
      "dtypes: float64(6), int64(1), object(4)\n",
      "memory usage: 1.5+ MB\n"
     ]
    }
   ],
   "source": [
    "data.info()"
   ]
  },
  {
   "attachments": {},
   "cell_type": "markdown",
   "id": "c99cb602",
   "metadata": {},
   "source": [
    "### rating"
   ]
  },
  {
   "cell_type": "code",
   "execution_count": 143,
   "id": "bcb7ee36",
   "metadata": {},
   "outputs": [],
   "source": [
    "#membuat dataframe rating berdasarkan platform\n",
    "\n",
    "rating = data.groupby('genre')['rating'].agg(pd.Series.mode)"
   ]
  },
  {
   "cell_type": "code",
   "execution_count": 144,
   "id": "0f205641",
   "metadata": {},
   "outputs": [
    {
     "data": {
      "text/plain": [
       "array(['E', nan, 'M', 'T', 'E10+', 'K-A', 'AO', 'EC', 'RP'], dtype=object)"
      ]
     },
     "execution_count": 144,
     "metadata": {},
     "output_type": "execute_result"
    }
   ],
   "source": [
    "#eksplorasi data rating\n",
    "data['rating'].unique()"
   ]
  },
  {
   "cell_type": "code",
   "execution_count": 145,
   "id": "60a645a6",
   "metadata": {},
   "outputs": [],
   "source": [
    "#membuat model imputasi\n",
    "\n",
    "def rating_by_genre(row):\n",
    "    if pd.isna(row['rating']):\n",
    "        return rating.get(row['genre'])\n",
    "        \n",
    "    return row['rating']"
   ]
  },
  {
   "cell_type": "code",
   "execution_count": 146,
   "id": "b4722dff",
   "metadata": {},
   "outputs": [],
   "source": [
    "#mengatasi missing value pada rating\n",
    "\n",
    "data['rating'] = data.apply(rating_by_genre, axis=1)"
   ]
  },
  {
   "cell_type": "code",
   "execution_count": 147,
   "id": "abe4ad9e",
   "metadata": {},
   "outputs": [
    {
     "name": "stdout",
     "output_type": "stream",
     "text": [
      "<class 'pandas.core.frame.DataFrame'>\n",
      "Int64Index: 16713 entries, 0 to 16714\n",
      "Data columns (total 11 columns):\n",
      " #   Column           Non-Null Count  Dtype  \n",
      "---  ------           --------------  -----  \n",
      " 0   name             16713 non-null  object \n",
      " 1   platform         16713 non-null  object \n",
      " 2   year_of_release  16713 non-null  int64  \n",
      " 3   genre            16713 non-null  object \n",
      " 4   na_sales         16713 non-null  float64\n",
      " 5   eu_sales         16713 non-null  float64\n",
      " 6   jp_sales         16713 non-null  float64\n",
      " 7   other_sales      16713 non-null  float64\n",
      " 8   critic_score     16713 non-null  float64\n",
      " 9   user_score       16713 non-null  float64\n",
      " 10  rating           16713 non-null  object \n",
      "dtypes: float64(6), int64(1), object(4)\n",
      "memory usage: 1.5+ MB\n"
     ]
    }
   ],
   "source": [
    "data.info()"
   ]
  },
  {
   "cell_type": "code",
   "execution_count": 148,
   "id": "ed61777d",
   "metadata": {},
   "outputs": [
    {
     "data": {
      "text/html": [
       "<div>\n",
       "<style scoped>\n",
       "    .dataframe tbody tr th:only-of-type {\n",
       "        vertical-align: middle;\n",
       "    }\n",
       "\n",
       "    .dataframe tbody tr th {\n",
       "        vertical-align: top;\n",
       "    }\n",
       "\n",
       "    .dataframe thead th {\n",
       "        text-align: right;\n",
       "    }\n",
       "</style>\n",
       "<table border=\"1\" class=\"dataframe\">\n",
       "  <thead>\n",
       "    <tr style=\"text-align: right;\">\n",
       "      <th></th>\n",
       "      <th>name</th>\n",
       "      <th>platform</th>\n",
       "      <th>year_of_release</th>\n",
       "      <th>genre</th>\n",
       "      <th>na_sales</th>\n",
       "      <th>eu_sales</th>\n",
       "      <th>jp_sales</th>\n",
       "      <th>other_sales</th>\n",
       "      <th>critic_score</th>\n",
       "      <th>user_score</th>\n",
       "      <th>rating</th>\n",
       "    </tr>\n",
       "  </thead>\n",
       "  <tbody>\n",
       "    <tr>\n",
       "      <th>0</th>\n",
       "      <td>Wii Sports</td>\n",
       "      <td>Wii</td>\n",
       "      <td>2006</td>\n",
       "      <td>Sports</td>\n",
       "      <td>41.36</td>\n",
       "      <td>28.96</td>\n",
       "      <td>3.77</td>\n",
       "      <td>8.45</td>\n",
       "      <td>76.0</td>\n",
       "      <td>8.0</td>\n",
       "      <td>E</td>\n",
       "    </tr>\n",
       "    <tr>\n",
       "      <th>1</th>\n",
       "      <td>Super Mario Bros.</td>\n",
       "      <td>NES</td>\n",
       "      <td>1985</td>\n",
       "      <td>Platform</td>\n",
       "      <td>29.08</td>\n",
       "      <td>3.58</td>\n",
       "      <td>6.81</td>\n",
       "      <td>0.77</td>\n",
       "      <td>70.0</td>\n",
       "      <td>7.5</td>\n",
       "      <td>E</td>\n",
       "    </tr>\n",
       "    <tr>\n",
       "      <th>2</th>\n",
       "      <td>Mario Kart Wii</td>\n",
       "      <td>Wii</td>\n",
       "      <td>2008</td>\n",
       "      <td>Racing</td>\n",
       "      <td>15.68</td>\n",
       "      <td>12.76</td>\n",
       "      <td>3.79</td>\n",
       "      <td>3.29</td>\n",
       "      <td>82.0</td>\n",
       "      <td>8.3</td>\n",
       "      <td>E</td>\n",
       "    </tr>\n",
       "    <tr>\n",
       "      <th>3</th>\n",
       "      <td>Wii Sports Resort</td>\n",
       "      <td>Wii</td>\n",
       "      <td>2009</td>\n",
       "      <td>Sports</td>\n",
       "      <td>15.61</td>\n",
       "      <td>10.93</td>\n",
       "      <td>3.28</td>\n",
       "      <td>2.95</td>\n",
       "      <td>80.0</td>\n",
       "      <td>8.0</td>\n",
       "      <td>E</td>\n",
       "    </tr>\n",
       "    <tr>\n",
       "      <th>4</th>\n",
       "      <td>Pokemon Red/Pokemon Blue</td>\n",
       "      <td>GB</td>\n",
       "      <td>1996</td>\n",
       "      <td>Role-Playing</td>\n",
       "      <td>11.27</td>\n",
       "      <td>8.89</td>\n",
       "      <td>10.22</td>\n",
       "      <td>1.00</td>\n",
       "      <td>70.0</td>\n",
       "      <td>7.5</td>\n",
       "      <td>T</td>\n",
       "    </tr>\n",
       "  </tbody>\n",
       "</table>\n",
       "</div>"
      ],
      "text/plain": [
       "                       name platform  year_of_release         genre  na_sales  \\\n",
       "0                Wii Sports      Wii             2006        Sports     41.36   \n",
       "1         Super Mario Bros.      NES             1985      Platform     29.08   \n",
       "2            Mario Kart Wii      Wii             2008        Racing     15.68   \n",
       "3         Wii Sports Resort      Wii             2009        Sports     15.61   \n",
       "4  Pokemon Red/Pokemon Blue       GB             1996  Role-Playing     11.27   \n",
       "\n",
       "   eu_sales  jp_sales  other_sales  critic_score  user_score rating  \n",
       "0     28.96      3.77         8.45          76.0         8.0      E  \n",
       "1      3.58      6.81         0.77          70.0         7.5      E  \n",
       "2     12.76      3.79         3.29          82.0         8.3      E  \n",
       "3     10.93      3.28         2.95          80.0         8.0      E  \n",
       "4      8.89     10.22         1.00          70.0         7.5      T  "
      ]
     },
     "execution_count": 148,
     "metadata": {},
     "output_type": "execute_result"
    }
   ],
   "source": [
    "#tampilkan data\n",
    "data.head()"
   ]
  },
  {
   "cell_type": "code",
   "execution_count": 149,
   "id": "e0438a72",
   "metadata": {},
   "outputs": [
    {
     "data": {
      "text/html": [
       "<div>\n",
       "<style scoped>\n",
       "    .dataframe tbody tr th:only-of-type {\n",
       "        vertical-align: middle;\n",
       "    }\n",
       "\n",
       "    .dataframe tbody tr th {\n",
       "        vertical-align: top;\n",
       "    }\n",
       "\n",
       "    .dataframe thead th {\n",
       "        text-align: right;\n",
       "    }\n",
       "</style>\n",
       "<table border=\"1\" class=\"dataframe\">\n",
       "  <thead>\n",
       "    <tr style=\"text-align: right;\">\n",
       "      <th></th>\n",
       "      <th>name</th>\n",
       "      <th>platform</th>\n",
       "      <th>year_of_release</th>\n",
       "      <th>genre</th>\n",
       "      <th>na_sales</th>\n",
       "      <th>eu_sales</th>\n",
       "      <th>jp_sales</th>\n",
       "      <th>other_sales</th>\n",
       "      <th>critic_score</th>\n",
       "      <th>user_score</th>\n",
       "      <th>rating</th>\n",
       "      <th>total_sales</th>\n",
       "    </tr>\n",
       "  </thead>\n",
       "  <tbody>\n",
       "    <tr>\n",
       "      <th>0</th>\n",
       "      <td>Wii Sports</td>\n",
       "      <td>Wii</td>\n",
       "      <td>2006</td>\n",
       "      <td>Sports</td>\n",
       "      <td>41.36</td>\n",
       "      <td>28.96</td>\n",
       "      <td>3.77</td>\n",
       "      <td>8.45</td>\n",
       "      <td>76.0</td>\n",
       "      <td>8.0</td>\n",
       "      <td>E</td>\n",
       "      <td>82.54</td>\n",
       "    </tr>\n",
       "    <tr>\n",
       "      <th>1</th>\n",
       "      <td>Super Mario Bros.</td>\n",
       "      <td>NES</td>\n",
       "      <td>1985</td>\n",
       "      <td>Platform</td>\n",
       "      <td>29.08</td>\n",
       "      <td>3.58</td>\n",
       "      <td>6.81</td>\n",
       "      <td>0.77</td>\n",
       "      <td>70.0</td>\n",
       "      <td>7.5</td>\n",
       "      <td>E</td>\n",
       "      <td>40.24</td>\n",
       "    </tr>\n",
       "    <tr>\n",
       "      <th>2</th>\n",
       "      <td>Mario Kart Wii</td>\n",
       "      <td>Wii</td>\n",
       "      <td>2008</td>\n",
       "      <td>Racing</td>\n",
       "      <td>15.68</td>\n",
       "      <td>12.76</td>\n",
       "      <td>3.79</td>\n",
       "      <td>3.29</td>\n",
       "      <td>82.0</td>\n",
       "      <td>8.3</td>\n",
       "      <td>E</td>\n",
       "      <td>35.52</td>\n",
       "    </tr>\n",
       "    <tr>\n",
       "      <th>3</th>\n",
       "      <td>Wii Sports Resort</td>\n",
       "      <td>Wii</td>\n",
       "      <td>2009</td>\n",
       "      <td>Sports</td>\n",
       "      <td>15.61</td>\n",
       "      <td>10.93</td>\n",
       "      <td>3.28</td>\n",
       "      <td>2.95</td>\n",
       "      <td>80.0</td>\n",
       "      <td>8.0</td>\n",
       "      <td>E</td>\n",
       "      <td>32.77</td>\n",
       "    </tr>\n",
       "    <tr>\n",
       "      <th>4</th>\n",
       "      <td>Pokemon Red/Pokemon Blue</td>\n",
       "      <td>GB</td>\n",
       "      <td>1996</td>\n",
       "      <td>Role-Playing</td>\n",
       "      <td>11.27</td>\n",
       "      <td>8.89</td>\n",
       "      <td>10.22</td>\n",
       "      <td>1.00</td>\n",
       "      <td>70.0</td>\n",
       "      <td>7.5</td>\n",
       "      <td>T</td>\n",
       "      <td>31.38</td>\n",
       "    </tr>\n",
       "  </tbody>\n",
       "</table>\n",
       "</div>"
      ],
      "text/plain": [
       "                       name platform  year_of_release         genre  na_sales  \\\n",
       "0                Wii Sports      Wii             2006        Sports     41.36   \n",
       "1         Super Mario Bros.      NES             1985      Platform     29.08   \n",
       "2            Mario Kart Wii      Wii             2008        Racing     15.68   \n",
       "3         Wii Sports Resort      Wii             2009        Sports     15.61   \n",
       "4  Pokemon Red/Pokemon Blue       GB             1996  Role-Playing     11.27   \n",
       "\n",
       "   eu_sales  jp_sales  other_sales  critic_score  user_score rating  \\\n",
       "0     28.96      3.77         8.45          76.0         8.0      E   \n",
       "1      3.58      6.81         0.77          70.0         7.5      E   \n",
       "2     12.76      3.79         3.29          82.0         8.3      E   \n",
       "3     10.93      3.28         2.95          80.0         8.0      E   \n",
       "4      8.89     10.22         1.00          70.0         7.5      T   \n",
       "\n",
       "   total_sales  \n",
       "0        82.54  \n",
       "1        40.24  \n",
       "2        35.52  \n",
       "3        32.77  \n",
       "4        31.38  "
      ]
     },
     "execution_count": 149,
     "metadata": {},
     "output_type": "execute_result"
    }
   ],
   "source": [
    "#menghitung total penjualan\n",
    "\n",
    "\n",
    "data['total_sales'] = data['na_sales'] + data['eu_sales'] + data['jp_sales'] + data['other_sales']\n",
    "data.head()"
   ]
  },
  {
   "cell_type": "markdown",
   "id": "d0169a3f",
   "metadata": {},
   "source": [
    "Setelah memastikan dari tampilan data sudah dilakukan perbaikan serta bebas dari missing value tahapan selanjutnya adalah proses analisis. Proses ini bertujuan untuk mendapatkan bgaimana distribusi data berdasarkan kategori yang diinginkan. Sebelum melangkah ke tahapan ini, pastikan untuk menghitu berapa total penjualan dari setiap game dimana data ini akan digunakan untuk mengukur bagaimana kempampuan setiap game untuk memberikan penghasilan"
   ]
  },
  {
   "attachments": {},
   "cell_type": "markdown",
   "id": "3350c2a2",
   "metadata": {},
   "source": [
    "# Analisis\n",
    "\n",
    "Pada proses analisis akan dilakukan filter data berdasarkan tahun kemunculan game. Bagaimana distribusi game yang berdasarkan tahun release akan dipelajari melalui diagram batang. Dari diagram tersebut akan menunjukan berapa game yang diluncurkan pada rentang tahun yang dimiliki oleh data ini"
   ]
  },
  {
   "cell_type": "code",
   "execution_count": 150,
   "id": "2f86da54",
   "metadata": {},
   "outputs": [
    {
     "data": {
      "text/html": [
       "<div>\n",
       "<style scoped>\n",
       "    .dataframe tbody tr th:only-of-type {\n",
       "        vertical-align: middle;\n",
       "    }\n",
       "\n",
       "    .dataframe tbody tr th {\n",
       "        vertical-align: top;\n",
       "    }\n",
       "\n",
       "    .dataframe thead th {\n",
       "        text-align: right;\n",
       "    }\n",
       "</style>\n",
       "<table border=\"1\" class=\"dataframe\">\n",
       "  <thead>\n",
       "    <tr style=\"text-align: right;\">\n",
       "      <th></th>\n",
       "      <th>name</th>\n",
       "    </tr>\n",
       "    <tr>\n",
       "      <th>year_of_release</th>\n",
       "      <th></th>\n",
       "    </tr>\n",
       "  </thead>\n",
       "  <tbody>\n",
       "    <tr>\n",
       "      <th>1980</th>\n",
       "      <td>9</td>\n",
       "    </tr>\n",
       "    <tr>\n",
       "      <th>1981</th>\n",
       "      <td>46</td>\n",
       "    </tr>\n",
       "    <tr>\n",
       "      <th>1982</th>\n",
       "      <td>53</td>\n",
       "    </tr>\n",
       "    <tr>\n",
       "      <th>1983</th>\n",
       "      <td>17</td>\n",
       "    </tr>\n",
       "    <tr>\n",
       "      <th>1984</th>\n",
       "      <td>14</td>\n",
       "    </tr>\n",
       "  </tbody>\n",
       "</table>\n",
       "</div>"
      ],
      "text/plain": [
       "                 name\n",
       "year_of_release      \n",
       "1980                9\n",
       "1981               46\n",
       "1982               53\n",
       "1983               17\n",
       "1984               14"
      ]
     },
     "execution_count": 150,
     "metadata": {},
     "output_type": "execute_result"
    }
   ],
   "source": [
    "#menampilkan jumlah games berdasarkan tahun release\n",
    "group_games_by_years = data.groupby('year_of_release').agg({'name': 'count'})\n",
    "group_games_by_years.head()"
   ]
  },
  {
   "cell_type": "code",
   "execution_count": 151,
   "id": "8d93d13c",
   "metadata": {},
   "outputs": [
    {
     "data": {
      "text/plain": [
       "<Axes: xlabel='year_of_release'>"
      ]
     },
     "execution_count": 151,
     "metadata": {},
     "output_type": "execute_result"
    },
    {
     "data": {
      "image/png": "[encoded data removed]",
      "text/plain": [
       "<Figure size 640x480 with 1 Axes>"
      ]
     },
     "metadata": {},
     "output_type": "display_data"
    }
   ],
   "source": [
    "#tampilkan diagram batang\n",
    "\n",
    "group_games_by_years.plot.bar()\n"
   ]
  },
  {
   "attachments": {},
   "cell_type": "markdown",
   "id": "f5170658",
   "metadata": {},
   "source": [
    "Dari tampilan diagram batang berikut menunjukan berapa jumlah games yang release dari tahun 1980 hingga 2016. Pada periode tahun 2008 dan 2009 merupakan puncak produksi dimana tahun tersebut banyak game yang di release ke publik. Setelah periode tersebut terjadi penurunan yg cukup tinggi hingga tahun 2013 dan seterusnya perkembangan produksi game masih tergolong stagnan. Tahapan selanjutnya adalah membuat data yang distribusinya berdasarkan platform untuk melihat informasi apa yang diberikan dari perkembangan industri games berdasarkan platform. Data tersebut akan memberikan informasi lima platform game dengan penjualan tertinggi juga akan menggambarkan bagaimana historis penjualan dari setiap tahun serta game apa saya yang dulu popolur dan sekarang hampir tidak menghasilkan penjualan."
   ]
  },
  {
   "cell_type": "code",
   "execution_count": 152,
   "id": "e645ac6b",
   "metadata": {},
   "outputs": [
    {
     "data": {
      "text/html": [
       "<div>\n",
       "<style scoped>\n",
       "    .dataframe tbody tr th:only-of-type {\n",
       "        vertical-align: middle;\n",
       "    }\n",
       "\n",
       "    .dataframe tbody tr th {\n",
       "        vertical-align: top;\n",
       "    }\n",
       "\n",
       "    .dataframe thead th {\n",
       "        text-align: right;\n",
       "    }\n",
       "</style>\n",
       "<table border=\"1\" class=\"dataframe\">\n",
       "  <thead>\n",
       "    <tr style=\"text-align: right;\">\n",
       "      <th></th>\n",
       "      <th>total_sales</th>\n",
       "    </tr>\n",
       "    <tr>\n",
       "      <th>platform</th>\n",
       "      <th></th>\n",
       "    </tr>\n",
       "  </thead>\n",
       "  <tbody>\n",
       "    <tr>\n",
       "      <th>PS2</th>\n",
       "      <td>1255.77</td>\n",
       "    </tr>\n",
       "    <tr>\n",
       "      <th>X360</th>\n",
       "      <td>971.42</td>\n",
       "    </tr>\n",
       "    <tr>\n",
       "      <th>PS3</th>\n",
       "      <td>939.65</td>\n",
       "    </tr>\n",
       "    <tr>\n",
       "      <th>Wii</th>\n",
       "      <td>907.51</td>\n",
       "    </tr>\n",
       "    <tr>\n",
       "      <th>DS</th>\n",
       "      <td>806.12</td>\n",
       "    </tr>\n",
       "  </tbody>\n",
       "</table>\n",
       "</div>"
      ],
      "text/plain": [
       "          total_sales\n",
       "platform             \n",
       "PS2           1255.77\n",
       "X360           971.42\n",
       "PS3            939.65\n",
       "Wii            907.51\n",
       "DS             806.12"
      ]
     },
     "execution_count": 152,
     "metadata": {},
     "output_type": "execute_result"
    }
   ],
   "source": [
    "#penjualan berdasarkan platform\n",
    "sales_by_platform = data.groupby('platform').agg({'total_sales': 'sum'}).sort_values('total_sales', ascending=False)\n",
    "sales_by_platform.head()"
   ]
  },
  {
   "cell_type": "code",
   "execution_count": 153,
   "id": "751609eb",
   "metadata": {},
   "outputs": [],
   "source": [
    "#membuat model distribusi penjualan\n",
    "def sales_distribution(data,platform):\n",
    "    row = data[data['platform'] == platform].groupby('year_of_release').agg({'total_sales':'sum'})\n",
    "    row.plot(kind = 'bar')\n",
    "    \n"
   ]
  },
  {
   "cell_type": "code",
   "execution_count": 154,
   "id": "b7c99197",
   "metadata": {},
   "outputs": [
    {
     "data": {
      "image/png": "[encoded data removed]",
      "text/plain": [
       "<Figure size 640x480 with 1 Axes>"
      ]
     },
     "metadata": {},
     "output_type": "display_data"
    }
   ],
   "source": [
    "#Penjualan PS2\n",
    "sales_distribution(data,'PS2')"
   ]
  },
  {
   "cell_type": "code",
   "execution_count": 155,
   "id": "68e52ebd",
   "metadata": {},
   "outputs": [
    {
     "data": {
      "image/png": "[encoded data removed]",
      "text/plain": [
       "<Figure size 640x480 with 1 Axes>"
      ]
     },
     "metadata": {},
     "output_type": "display_data"
    }
   ],
   "source": [
    "#penjualan x360\n",
    "sales_distribution(data,'X360')"
   ]
  },
  {
   "cell_type": "code",
   "execution_count": 156,
   "id": "0d2dbd73",
   "metadata": {},
   "outputs": [
    {
     "data": {
      "image/png": "[encoded data removed]",
      "text/plain": [
       "<Figure size 640x480 with 1 Axes>"
      ]
     },
     "metadata": {},
     "output_type": "display_data"
    }
   ],
   "source": [
    "#penjualan PS3\n",
    "sales_distribution(data,'PS3')"
   ]
  },
  {
   "cell_type": "code",
   "execution_count": 157,
   "id": "12d936f0",
   "metadata": {},
   "outputs": [
    {
     "data": {
      "image/png": "[encoded data removed]",
      "text/plain": [
       "<Figure size 640x480 with 1 Axes>"
      ]
     },
     "metadata": {},
     "output_type": "display_data"
    }
   ],
   "source": [
    "sales_distribution(data,'Wii')"
   ]
  },
  {
   "cell_type": "code",
   "execution_count": 158,
   "id": "427fc342",
   "metadata": {},
   "outputs": [
    {
     "data": {
      "image/png": "[encoded data removed]",
      "text/plain": [
       "<Figure size 640x480 with 1 Axes>"
      ]
     },
     "metadata": {},
     "output_type": "display_data"
    }
   ],
   "source": [
    "sales_distribution(data,'DS')"
   ]
  },
  {
   "attachments": {},
   "cell_type": "markdown",
   "id": "c16e6286",
   "metadata": {},
   "source": [
    "Secara umum dari tampilan liman platform tersebut memiliki titip puncak penjualan dan penurunan. Peningkatan penjualan paling tinggi dimiliki oleh Playstation2 yang berhasil mengumpulkan penjualan kurang lebih 150 juta usd pada periode 2000-2001. Sedangkan angka penurunan penjualan tertinggi dimiliki oleh Wii dengan penurununan mencapai 100 juta usd pada periode 2009-2010. Distribusi data pada game Playstation2 hampir tidak memiliki penjualan dimana hal ini merupakan penurunan yang terjadi pada game yang dulunya merupakan platform yang sangat populer. Oleh karena itu, perlu dilakukan spesifikasi tahun release dimana keputusan yang diambil adalah melihat perkembangan game dari sepuluh tahun yang lalu."
   ]
  },
  {
   "cell_type": "code",
   "execution_count": 159,
   "id": "27b72769",
   "metadata": {},
   "outputs": [
    {
     "data": {
      "text/html": [
       "<div>\n",
       "<style scoped>\n",
       "    .dataframe tbody tr th:only-of-type {\n",
       "        vertical-align: middle;\n",
       "    }\n",
       "\n",
       "    .dataframe tbody tr th {\n",
       "        vertical-align: top;\n",
       "    }\n",
       "\n",
       "    .dataframe thead th {\n",
       "        text-align: right;\n",
       "    }\n",
       "</style>\n",
       "<table border=\"1\" class=\"dataframe\">\n",
       "  <thead>\n",
       "    <tr style=\"text-align: right;\">\n",
       "      <th></th>\n",
       "      <th>name</th>\n",
       "      <th>platform</th>\n",
       "      <th>year_of_release</th>\n",
       "      <th>genre</th>\n",
       "      <th>na_sales</th>\n",
       "      <th>eu_sales</th>\n",
       "      <th>jp_sales</th>\n",
       "      <th>other_sales</th>\n",
       "      <th>critic_score</th>\n",
       "      <th>user_score</th>\n",
       "      <th>rating</th>\n",
       "      <th>total_sales</th>\n",
       "    </tr>\n",
       "  </thead>\n",
       "  <tbody>\n",
       "    <tr>\n",
       "      <th>0</th>\n",
       "      <td>Wii Sports</td>\n",
       "      <td>Wii</td>\n",
       "      <td>2006</td>\n",
       "      <td>Sports</td>\n",
       "      <td>41.36</td>\n",
       "      <td>28.96</td>\n",
       "      <td>3.77</td>\n",
       "      <td>8.45</td>\n",
       "      <td>76.0</td>\n",
       "      <td>8.0</td>\n",
       "      <td>E</td>\n",
       "      <td>82.54</td>\n",
       "    </tr>\n",
       "    <tr>\n",
       "      <th>2</th>\n",
       "      <td>Mario Kart Wii</td>\n",
       "      <td>Wii</td>\n",
       "      <td>2008</td>\n",
       "      <td>Racing</td>\n",
       "      <td>15.68</td>\n",
       "      <td>12.76</td>\n",
       "      <td>3.79</td>\n",
       "      <td>3.29</td>\n",
       "      <td>82.0</td>\n",
       "      <td>8.3</td>\n",
       "      <td>E</td>\n",
       "      <td>35.52</td>\n",
       "    </tr>\n",
       "    <tr>\n",
       "      <th>3</th>\n",
       "      <td>Wii Sports Resort</td>\n",
       "      <td>Wii</td>\n",
       "      <td>2009</td>\n",
       "      <td>Sports</td>\n",
       "      <td>15.61</td>\n",
       "      <td>10.93</td>\n",
       "      <td>3.28</td>\n",
       "      <td>2.95</td>\n",
       "      <td>80.0</td>\n",
       "      <td>8.0</td>\n",
       "      <td>E</td>\n",
       "      <td>32.77</td>\n",
       "    </tr>\n",
       "    <tr>\n",
       "      <th>6</th>\n",
       "      <td>New Super Mario Bros.</td>\n",
       "      <td>DS</td>\n",
       "      <td>2006</td>\n",
       "      <td>Platform</td>\n",
       "      <td>11.28</td>\n",
       "      <td>9.14</td>\n",
       "      <td>6.50</td>\n",
       "      <td>2.88</td>\n",
       "      <td>89.0</td>\n",
       "      <td>8.5</td>\n",
       "      <td>E</td>\n",
       "      <td>29.80</td>\n",
       "    </tr>\n",
       "    <tr>\n",
       "      <th>7</th>\n",
       "      <td>Wii Play</td>\n",
       "      <td>Wii</td>\n",
       "      <td>2006</td>\n",
       "      <td>Misc</td>\n",
       "      <td>13.96</td>\n",
       "      <td>9.18</td>\n",
       "      <td>2.93</td>\n",
       "      <td>2.84</td>\n",
       "      <td>58.0</td>\n",
       "      <td>6.6</td>\n",
       "      <td>E</td>\n",
       "      <td>28.91</td>\n",
       "    </tr>\n",
       "    <tr>\n",
       "      <th>...</th>\n",
       "      <td>...</td>\n",
       "      <td>...</td>\n",
       "      <td>...</td>\n",
       "      <td>...</td>\n",
       "      <td>...</td>\n",
       "      <td>...</td>\n",
       "      <td>...</td>\n",
       "      <td>...</td>\n",
       "      <td>...</td>\n",
       "      <td>...</td>\n",
       "      <td>...</td>\n",
       "      <td>...</td>\n",
       "    </tr>\n",
       "    <tr>\n",
       "      <th>16709</th>\n",
       "      <td>SCORE International Baja 1000: The Official Game</td>\n",
       "      <td>PS2</td>\n",
       "      <td>2008</td>\n",
       "      <td>Racing</td>\n",
       "      <td>0.00</td>\n",
       "      <td>0.00</td>\n",
       "      <td>0.00</td>\n",
       "      <td>0.00</td>\n",
       "      <td>70.0</td>\n",
       "      <td>8.0</td>\n",
       "      <td>E</td>\n",
       "      <td>0.00</td>\n",
       "    </tr>\n",
       "    <tr>\n",
       "      <th>16710</th>\n",
       "      <td>Samurai Warriors: Sanada Maru</td>\n",
       "      <td>PS3</td>\n",
       "      <td>2016</td>\n",
       "      <td>Action</td>\n",
       "      <td>0.00</td>\n",
       "      <td>0.00</td>\n",
       "      <td>0.01</td>\n",
       "      <td>0.00</td>\n",
       "      <td>73.0</td>\n",
       "      <td>7.1</td>\n",
       "      <td>T</td>\n",
       "      <td>0.01</td>\n",
       "    </tr>\n",
       "    <tr>\n",
       "      <th>16711</th>\n",
       "      <td>LMA Manager 2007</td>\n",
       "      <td>X360</td>\n",
       "      <td>2006</td>\n",
       "      <td>Sports</td>\n",
       "      <td>0.00</td>\n",
       "      <td>0.01</td>\n",
       "      <td>0.00</td>\n",
       "      <td>0.00</td>\n",
       "      <td>71.0</td>\n",
       "      <td>7.0</td>\n",
       "      <td>E</td>\n",
       "      <td>0.01</td>\n",
       "    </tr>\n",
       "    <tr>\n",
       "      <th>16712</th>\n",
       "      <td>Haitaka no Psychedelica</td>\n",
       "      <td>PSV</td>\n",
       "      <td>2016</td>\n",
       "      <td>Adventure</td>\n",
       "      <td>0.00</td>\n",
       "      <td>0.00</td>\n",
       "      <td>0.01</td>\n",
       "      <td>0.00</td>\n",
       "      <td>71.0</td>\n",
       "      <td>7.6</td>\n",
       "      <td>E</td>\n",
       "      <td>0.01</td>\n",
       "    </tr>\n",
       "    <tr>\n",
       "      <th>16714</th>\n",
       "      <td>Winning Post 8 2016</td>\n",
       "      <td>PSV</td>\n",
       "      <td>2016</td>\n",
       "      <td>Simulation</td>\n",
       "      <td>0.00</td>\n",
       "      <td>0.00</td>\n",
       "      <td>0.01</td>\n",
       "      <td>0.00</td>\n",
       "      <td>71.0</td>\n",
       "      <td>7.6</td>\n",
       "      <td>E</td>\n",
       "      <td>0.01</td>\n",
       "    </tr>\n",
       "  </tbody>\n",
       "</table>\n",
       "<p>10494 rows × 12 columns</p>\n",
       "</div>"
      ],
      "text/plain": [
       "                                                   name platform  \\\n",
       "0                                            Wii Sports      Wii   \n",
       "2                                        Mario Kart Wii      Wii   \n",
       "3                                     Wii Sports Resort      Wii   \n",
       "6                                 New Super Mario Bros.       DS   \n",
       "7                                              Wii Play      Wii   \n",
       "...                                                 ...      ...   \n",
       "16709  SCORE International Baja 1000: The Official Game      PS2   \n",
       "16710                     Samurai Warriors: Sanada Maru      PS3   \n",
       "16711                                  LMA Manager 2007     X360   \n",
       "16712                           Haitaka no Psychedelica      PSV   \n",
       "16714                               Winning Post 8 2016      PSV   \n",
       "\n",
       "       year_of_release       genre  na_sales  eu_sales  jp_sales  other_sales  \\\n",
       "0                 2006      Sports     41.36     28.96      3.77         8.45   \n",
       "2                 2008      Racing     15.68     12.76      3.79         3.29   \n",
       "3                 2009      Sports     15.61     10.93      3.28         2.95   \n",
       "6                 2006    Platform     11.28      9.14      6.50         2.88   \n",
       "7                 2006        Misc     13.96      9.18      2.93         2.84   \n",
       "...                ...         ...       ...       ...       ...          ...   \n",
       "16709             2008      Racing      0.00      0.00      0.00         0.00   \n",
       "16710             2016      Action      0.00      0.00      0.01         0.00   \n",
       "16711             2006      Sports      0.00      0.01      0.00         0.00   \n",
       "16712             2016   Adventure      0.00      0.00      0.01         0.00   \n",
       "16714             2016  Simulation      0.00      0.00      0.01         0.00   \n",
       "\n",
       "       critic_score  user_score rating  total_sales  \n",
       "0              76.0         8.0      E        82.54  \n",
       "2              82.0         8.3      E        35.52  \n",
       "3              80.0         8.0      E        32.77  \n",
       "6              89.0         8.5      E        29.80  \n",
       "7              58.0         6.6      E        28.91  \n",
       "...             ...         ...    ...          ...  \n",
       "16709          70.0         8.0      E         0.00  \n",
       "16710          73.0         7.1      T         0.01  \n",
       "16711          71.0         7.0      E         0.01  \n",
       "16712          71.0         7.6      E         0.01  \n",
       "16714          71.0         7.6      E         0.01  \n",
       "\n",
       "[10494 rows x 12 columns]"
      ]
     },
     "execution_count": 159,
     "metadata": {},
     "output_type": "execute_result"
    }
   ],
   "source": [
    "#data game dari tahun 2006-2016\n",
    "new_data = data[data['year_of_release'] >= 2006]\n",
    "new_data"
   ]
  },
  {
   "cell_type": "code",
   "execution_count": 160,
   "id": "8a9767d3",
   "metadata": {},
   "outputs": [
    {
     "data": {
      "text/html": [
       "<div>\n",
       "<style scoped>\n",
       "    .dataframe tbody tr th:only-of-type {\n",
       "        vertical-align: middle;\n",
       "    }\n",
       "\n",
       "    .dataframe tbody tr th {\n",
       "        vertical-align: top;\n",
       "    }\n",
       "\n",
       "    .dataframe thead th {\n",
       "        text-align: right;\n",
       "    }\n",
       "</style>\n",
       "<table border=\"1\" class=\"dataframe\">\n",
       "  <thead>\n",
       "    <tr style=\"text-align: right;\">\n",
       "      <th></th>\n",
       "      <th>total_sales</th>\n",
       "    </tr>\n",
       "    <tr>\n",
       "      <th>platform</th>\n",
       "      <th></th>\n",
       "    </tr>\n",
       "  </thead>\n",
       "  <tbody>\n",
       "    <tr>\n",
       "      <th>X360</th>\n",
       "      <td>963.17</td>\n",
       "    </tr>\n",
       "    <tr>\n",
       "      <th>PS3</th>\n",
       "      <td>939.65</td>\n",
       "    </tr>\n",
       "    <tr>\n",
       "      <th>Wii</th>\n",
       "      <td>907.51</td>\n",
       "    </tr>\n",
       "    <tr>\n",
       "      <th>DS</th>\n",
       "      <td>658.69</td>\n",
       "    </tr>\n",
       "    <tr>\n",
       "      <th>PS4</th>\n",
       "      <td>314.14</td>\n",
       "    </tr>\n",
       "  </tbody>\n",
       "</table>\n",
       "</div>"
      ],
      "text/plain": [
       "          total_sales\n",
       "platform             \n",
       "X360           963.17\n",
       "PS3            939.65\n",
       "Wii            907.51\n",
       "DS             658.69\n",
       "PS4            314.14"
      ]
     },
     "execution_count": 160,
     "metadata": {},
     "output_type": "execute_result"
    }
   ],
   "source": [
    "#total penjualan\n",
    "group_game_by_new_data = new_data.groupby('platform').agg({'total_sales': 'sum'}).sort_values('total_sales', ascending=False)\n",
    "group_game_by_new_data.head()"
   ]
  },
  {
   "cell_type": "code",
   "execution_count": 161,
   "id": "278602ae",
   "metadata": {},
   "outputs": [
    {
     "data": {
      "image/png": "[encoded data removed]",
      "text/plain": [
       "<Figure size 640x480 with 1 Axes>"
      ]
     },
     "metadata": {},
     "output_type": "display_data"
    }
   ],
   "source": [
    "#penjualan Xbox360\n",
    "sales_distribution(new_data,'X360')"
   ]
  },
  {
   "cell_type": "code",
   "execution_count": 162,
   "id": "173acd4f",
   "metadata": {},
   "outputs": [
    {
     "data": {
      "image/png": "[encoded data removed]",
      "text/plain": [
       "<Figure size 640x480 with 1 Axes>"
      ]
     },
     "metadata": {},
     "output_type": "display_data"
    }
   ],
   "source": [
    "#penjualan playstation3\n",
    "sales_distribution(new_data,'PS3')"
   ]
  },
  {
   "cell_type": "code",
   "execution_count": 163,
   "id": "98fc684a",
   "metadata": {},
   "outputs": [
    {
     "data": {
      "image/png": "[encoded data removed]",
      "text/plain": [
       "<Figure size 640x480 with 1 Axes>"
      ]
     },
     "metadata": {},
     "output_type": "display_data"
    }
   ],
   "source": [
    "#penjualan Nitendo DS\n",
    "sales_distribution(new_data,'DS')"
   ]
  },
  {
   "cell_type": "code",
   "execution_count": 164,
   "id": "fd58623d",
   "metadata": {},
   "outputs": [
    {
     "data": {
      "image/png": "[encoded data removed]",
      "text/plain": [
       "<Figure size 640x480 with 1 Axes>"
      ]
     },
     "metadata": {},
     "output_type": "display_data"
    }
   ],
   "source": [
    "#penjualan Wii\n",
    "sales_distribution(new_data,'Wii')"
   ]
  },
  {
   "cell_type": "code",
   "execution_count": 165,
   "id": "ae1ce964",
   "metadata": {},
   "outputs": [
    {
     "data": {
      "image/png": "[encoded data removed]",
      "text/plain": [
       "<Figure size 640x480 with 1 Axes>"
      ]
     },
     "metadata": {},
     "output_type": "display_data"
    }
   ],
   "source": [
    "#penjualan PS4\n",
    "sales_distribution(new_data,'PS4')"
   ]
  },
  {
   "cell_type": "code",
   "execution_count": 166,
   "id": "75360c35",
   "metadata": {},
   "outputs": [
    {
     "data": {
      "text/html": [
       "<div>\n",
       "<style scoped>\n",
       "    .dataframe tbody tr th:only-of-type {\n",
       "        vertical-align: middle;\n",
       "    }\n",
       "\n",
       "    .dataframe tbody tr th {\n",
       "        vertical-align: top;\n",
       "    }\n",
       "\n",
       "    .dataframe thead th {\n",
       "        text-align: right;\n",
       "    }\n",
       "</style>\n",
       "<table border=\"1\" class=\"dataframe\">\n",
       "  <thead>\n",
       "    <tr style=\"text-align: right;\">\n",
       "      <th></th>\n",
       "      <th>name</th>\n",
       "      <th>platform</th>\n",
       "      <th>year_of_release</th>\n",
       "      <th>genre</th>\n",
       "      <th>na_sales</th>\n",
       "      <th>eu_sales</th>\n",
       "      <th>jp_sales</th>\n",
       "      <th>other_sales</th>\n",
       "      <th>critic_score</th>\n",
       "      <th>user_score</th>\n",
       "      <th>rating</th>\n",
       "      <th>total_sales</th>\n",
       "    </tr>\n",
       "  </thead>\n",
       "  <tbody>\n",
       "    <tr>\n",
       "      <th>0</th>\n",
       "      <td>Wii Sports</td>\n",
       "      <td>Wii</td>\n",
       "      <td>2006</td>\n",
       "      <td>Sports</td>\n",
       "      <td>41.36</td>\n",
       "      <td>28.96</td>\n",
       "      <td>3.77</td>\n",
       "      <td>8.45</td>\n",
       "      <td>76.0</td>\n",
       "      <td>8.0</td>\n",
       "      <td>E</td>\n",
       "      <td>82.54</td>\n",
       "    </tr>\n",
       "    <tr>\n",
       "      <th>2</th>\n",
       "      <td>Mario Kart Wii</td>\n",
       "      <td>Wii</td>\n",
       "      <td>2008</td>\n",
       "      <td>Racing</td>\n",
       "      <td>15.68</td>\n",
       "      <td>12.76</td>\n",
       "      <td>3.79</td>\n",
       "      <td>3.29</td>\n",
       "      <td>82.0</td>\n",
       "      <td>8.3</td>\n",
       "      <td>E</td>\n",
       "      <td>35.52</td>\n",
       "    </tr>\n",
       "    <tr>\n",
       "      <th>3</th>\n",
       "      <td>Wii Sports Resort</td>\n",
       "      <td>Wii</td>\n",
       "      <td>2009</td>\n",
       "      <td>Sports</td>\n",
       "      <td>15.61</td>\n",
       "      <td>10.93</td>\n",
       "      <td>3.28</td>\n",
       "      <td>2.95</td>\n",
       "      <td>80.0</td>\n",
       "      <td>8.0</td>\n",
       "      <td>E</td>\n",
       "      <td>32.77</td>\n",
       "    </tr>\n",
       "    <tr>\n",
       "      <th>6</th>\n",
       "      <td>New Super Mario Bros.</td>\n",
       "      <td>DS</td>\n",
       "      <td>2006</td>\n",
       "      <td>Platform</td>\n",
       "      <td>11.28</td>\n",
       "      <td>9.14</td>\n",
       "      <td>6.50</td>\n",
       "      <td>2.88</td>\n",
       "      <td>89.0</td>\n",
       "      <td>8.5</td>\n",
       "      <td>E</td>\n",
       "      <td>29.80</td>\n",
       "    </tr>\n",
       "    <tr>\n",
       "      <th>7</th>\n",
       "      <td>Wii Play</td>\n",
       "      <td>Wii</td>\n",
       "      <td>2006</td>\n",
       "      <td>Misc</td>\n",
       "      <td>13.96</td>\n",
       "      <td>9.18</td>\n",
       "      <td>2.93</td>\n",
       "      <td>2.84</td>\n",
       "      <td>58.0</td>\n",
       "      <td>6.6</td>\n",
       "      <td>E</td>\n",
       "      <td>28.91</td>\n",
       "    </tr>\n",
       "  </tbody>\n",
       "</table>\n",
       "</div>"
      ],
      "text/plain": [
       "                    name platform  year_of_release     genre  na_sales  \\\n",
       "0             Wii Sports      Wii             2006    Sports     41.36   \n",
       "2         Mario Kart Wii      Wii             2008    Racing     15.68   \n",
       "3      Wii Sports Resort      Wii             2009    Sports     15.61   \n",
       "6  New Super Mario Bros.       DS             2006  Platform     11.28   \n",
       "7               Wii Play      Wii             2006      Misc     13.96   \n",
       "\n",
       "   eu_sales  jp_sales  other_sales  critic_score  user_score rating  \\\n",
       "0     28.96      3.77         8.45          76.0         8.0      E   \n",
       "2     12.76      3.79         3.29          82.0         8.3      E   \n",
       "3     10.93      3.28         2.95          80.0         8.0      E   \n",
       "6      9.14      6.50         2.88          89.0         8.5      E   \n",
       "7      9.18      2.93         2.84          58.0         6.6      E   \n",
       "\n",
       "   total_sales  \n",
       "0        82.54  \n",
       "2        35.52  \n",
       "3        32.77  \n",
       "6        29.80  \n",
       "7        28.91  "
      ]
     },
     "execution_count": 166,
     "metadata": {},
     "output_type": "execute_result"
    }
   ],
   "source": [
    "#lima peringkat tertinggi \n",
    "top_platform = new_data[new_data['platform'].isin(['X360','PS3', 'Wii','DS','PS4'])]\n",
    "top_platform.head()"
   ]
  },
  {
   "cell_type": "code",
   "execution_count": 167,
   "id": "88bebd91",
   "metadata": {},
   "outputs": [
    {
     "data": {
      "text/html": [
       "<div>\n",
       "<style scoped>\n",
       "    .dataframe tbody tr th:only-of-type {\n",
       "        vertical-align: middle;\n",
       "    }\n",
       "\n",
       "    .dataframe tbody tr th {\n",
       "        vertical-align: top;\n",
       "    }\n",
       "\n",
       "    .dataframe thead th {\n",
       "        text-align: right;\n",
       "    }\n",
       "</style>\n",
       "<table border=\"1\" class=\"dataframe\">\n",
       "  <thead>\n",
       "    <tr style=\"text-align: right;\">\n",
       "      <th></th>\n",
       "      <th>median</th>\n",
       "      <th>mean</th>\n",
       "    </tr>\n",
       "    <tr>\n",
       "      <th>platform</th>\n",
       "      <th></th>\n",
       "      <th></th>\n",
       "    </tr>\n",
       "  </thead>\n",
       "  <tbody>\n",
       "    <tr>\n",
       "      <th>DS</th>\n",
       "      <td>0.10</td>\n",
       "      <td>0.327870</td>\n",
       "    </tr>\n",
       "    <tr>\n",
       "      <th>PS3</th>\n",
       "      <td>0.27</td>\n",
       "      <td>0.705973</td>\n",
       "    </tr>\n",
       "    <tr>\n",
       "      <th>PS4</th>\n",
       "      <td>0.20</td>\n",
       "      <td>0.801378</td>\n",
       "    </tr>\n",
       "    <tr>\n",
       "      <th>Wii</th>\n",
       "      <td>0.19</td>\n",
       "      <td>0.687508</td>\n",
       "    </tr>\n",
       "    <tr>\n",
       "      <th>X360</th>\n",
       "      <td>0.27</td>\n",
       "      <td>0.774252</td>\n",
       "    </tr>\n",
       "  </tbody>\n",
       "</table>\n",
       "</div>"
      ],
      "text/plain": [
       "          median      mean\n",
       "platform                  \n",
       "DS          0.10  0.327870\n",
       "PS3         0.27  0.705973\n",
       "PS4         0.20  0.801378\n",
       "Wii         0.19  0.687508\n",
       "X360        0.27  0.774252"
      ]
     },
     "execution_count": 167,
     "metadata": {},
     "output_type": "execute_result"
    }
   ],
   "source": [
    "#tampilan nilai median dan rata-rata dari game\n",
    "top_platform.groupby('platform')['total_sales'].agg({'median','mean'})"
   ]
  },
  {
   "attachments": {},
   "cell_type": "markdown",
   "id": "16924446",
   "metadata": {},
   "source": [
    "Berdasarkan tabel diatas menunjukan bahwa Playstation 4 memiliki rata-rata tertinggi. Namun jika dilihat dari pertumbuhan Xbox 360 dan Playstation 3 lebih terlihat meyakinkan berdasarkan lamanya periode yang kedua platform itu miliki. Pada studi kasus ini, Xbox 360 akan menjadi pilihan untuk dipelajari bagaimana potensi penjualan untuk kedepannya."
   ]
  },
  {
   "cell_type": "code",
   "execution_count": 168,
   "id": "46fea1b5",
   "metadata": {},
   "outputs": [
    {
     "data": {
      "text/plain": [
       "<Axes: xlabel='total_sales', ylabel='platform'>"
      ]
     },
     "execution_count": 168,
     "metadata": {},
     "output_type": "execute_result"
    },
    {
     "data": {
      "image/png": "[encoded data removed]",
      "text/plain": [
       "<Figure size 1600x1000 with 1 Axes>"
      ]
     },
     "metadata": {},
     "output_type": "display_data"
    }
   ],
   "source": [
    "#tampilan boxplot\n",
    "\n",
    "plt.figure(figsize=(16,10))\n",
    "sns.boxplot(data = top_platform, x = 'total_sales', y='platform')\n"
   ]
  },
  {
   "attachments": {},
   "cell_type": "markdown",
   "id": "b54aaf82",
   "metadata": {},
   "source": [
    "Dari tampilan boxplot diatas menunjukan nilai tengan yang dimiliki oleh setiap relatif platform tidak jauh berbeda. Titik-titik terluar juga menunjukan setiap platform memiliki nilai outlier sehingga bisa mempengaruhi distribusi nilai rata-ratanya. Berdasarkan tampilan diatas platform Wii memiliki outlier dengan tingkat penjualan tertinggi. Selanjutnya adalah melihat bagaimana penyebaran data dari Xbox 360 apakakah memilikii korelasi dengan penilaian yang diberikan pengguna dan kritikus games. Hal ini bisa diamati dengan menggunakan grafik scatter plot untuk mengamati sebaran data dari titik-titik yang dimiliki."
   ]
  },
  {
   "cell_type": "code",
   "execution_count": 169,
   "id": "e3dd3d44",
   "metadata": {},
   "outputs": [],
   "source": [
    "#filter data berdasarkan platform Xbox 360\n",
    "x_360 = new_data[new_data['platform'] == 'X360']"
   ]
  },
  {
   "cell_type": "code",
   "execution_count": 170,
   "id": "0cb8bbfd",
   "metadata": {},
   "outputs": [
    {
     "data": {
      "text/plain": [
       "<Axes: xlabel='user_score', ylabel='total_sales'>"
      ]
     },
     "execution_count": 170,
     "metadata": {},
     "output_type": "execute_result"
    },
    {
     "data": {
      "image/png": "[encoded data removed]",
      "text/plain": [
       "<Figure size 640x480 with 1 Axes>"
      ]
     },
     "metadata": {},
     "output_type": "display_data"
    }
   ],
   "source": [
    "#tamilan scatterplot dari skor yang diberikan pengguna\n",
    "x_360.plot.scatter(y='total_sales',x='user_score')"
   ]
  },
  {
   "cell_type": "code",
   "execution_count": 171,
   "id": "ef044ef6",
   "metadata": {},
   "outputs": [
    {
     "data": {
      "text/plain": [
       "<Axes: xlabel='critic_score', ylabel='total_sales'>"
      ]
     },
     "execution_count": 171,
     "metadata": {},
     "output_type": "execute_result"
    },
    {
     "data": {
      "image/png": "[encoded data removed]",
      "text/plain": [
       "<Figure size 640x480 with 1 Axes>"
      ]
     },
     "metadata": {},
     "output_type": "display_data"
    }
   ],
   "source": [
    "#tampilan scatter plot dari skor diberikan kritikus\n",
    "x_360.plot.scatter(y='total_sales',x='critic_score')"
   ]
  },
  {
   "cell_type": "code",
   "execution_count": 172,
   "id": "5829a545",
   "metadata": {},
   "outputs": [
    {
     "data": {
      "text/html": [
       "<div>\n",
       "<style scoped>\n",
       "    .dataframe tbody tr th:only-of-type {\n",
       "        vertical-align: middle;\n",
       "    }\n",
       "\n",
       "    .dataframe tbody tr th {\n",
       "        vertical-align: top;\n",
       "    }\n",
       "\n",
       "    .dataframe thead th {\n",
       "        text-align: right;\n",
       "    }\n",
       "</style>\n",
       "<table border=\"1\" class=\"dataframe\">\n",
       "  <thead>\n",
       "    <tr style=\"text-align: right;\">\n",
       "      <th></th>\n",
       "      <th>total_sales</th>\n",
       "    </tr>\n",
       "    <tr>\n",
       "      <th>genre</th>\n",
       "      <th></th>\n",
       "    </tr>\n",
       "  </thead>\n",
       "  <tbody>\n",
       "    <tr>\n",
       "      <th>Action</th>\n",
       "      <td>1135.62</td>\n",
       "    </tr>\n",
       "    <tr>\n",
       "      <th>Sports</th>\n",
       "      <td>800.11</td>\n",
       "    </tr>\n",
       "    <tr>\n",
       "      <th>Shooter</th>\n",
       "      <td>722.92</td>\n",
       "    </tr>\n",
       "    <tr>\n",
       "      <th>Misc</th>\n",
       "      <td>563.42</td>\n",
       "    </tr>\n",
       "    <tr>\n",
       "      <th>Role-Playing</th>\n",
       "      <td>523.49</td>\n",
       "    </tr>\n",
       "    <tr>\n",
       "      <th>Racing</th>\n",
       "      <td>301.07</td>\n",
       "    </tr>\n",
       "    <tr>\n",
       "      <th>Platform</th>\n",
       "      <td>280.30</td>\n",
       "    </tr>\n",
       "    <tr>\n",
       "      <th>Simulation</th>\n",
       "      <td>222.27</td>\n",
       "    </tr>\n",
       "    <tr>\n",
       "      <th>Fighting</th>\n",
       "      <td>188.68</td>\n",
       "    </tr>\n",
       "    <tr>\n",
       "      <th>Adventure</th>\n",
       "      <td>141.71</td>\n",
       "    </tr>\n",
       "    <tr>\n",
       "      <th>Puzzle</th>\n",
       "      <td>90.63</td>\n",
       "    </tr>\n",
       "    <tr>\n",
       "      <th>Strategy</th>\n",
       "      <td>74.69</td>\n",
       "    </tr>\n",
       "  </tbody>\n",
       "</table>\n",
       "</div>"
      ],
      "text/plain": [
       "              total_sales\n",
       "genre                    \n",
       "Action            1135.62\n",
       "Sports             800.11\n",
       "Shooter            722.92\n",
       "Misc               563.42\n",
       "Role-Playing       523.49\n",
       "Racing             301.07\n",
       "Platform           280.30\n",
       "Simulation         222.27\n",
       "Fighting           188.68\n",
       "Adventure          141.71\n",
       "Puzzle              90.63\n",
       "Strategy            74.69"
      ]
     },
     "execution_count": 172,
     "metadata": {},
     "output_type": "execute_result"
    }
   ],
   "source": [
    "#tampilan total penjualan berdasarkan genre\n",
    "sales_by_genre = new_data.groupby('genre').agg({'total_sales':'sum'}).sort_values('total_sales', ascending=False)\n",
    "sales_by_genre"
   ]
  },
  {
   "cell_type": "code",
   "execution_count": 173,
   "id": "b5b5fa81",
   "metadata": {},
   "outputs": [
    {
     "data": {
      "text/plain": [
       "<Axes: xlabel='genre'>"
      ]
     },
     "execution_count": 173,
     "metadata": {},
     "output_type": "execute_result"
    },
    {
     "data": {
      "image/png": "[encoded data removed]",
      "text/plain": [
       "<Figure size 640x480 with 1 Axes>"
      ]
     },
     "metadata": {},
     "output_type": "display_data"
    }
   ],
   "source": [
    "#tampilan grafik patang penjualan game berdasarkan game\n",
    "sales_by_genre.plot.bar()\n"
   ]
  },
  {
   "attachments": {},
   "cell_type": "markdown",
   "id": "458ef1a8",
   "metadata": {},
   "source": [
    "Berdasarkan tampilan scatter plot memberikan bagaimana korelasi penilaian dari pengguna game dan kritikus game. Skor yang diberikan oleh Pengguna dan kritikus pada dasarnya memiliki korelasi yang lemah terhapap tingkat penjualan. Hal ini ditunjukan oleh persebaran titik yang berkumpul di sisi kanan dimana memberikan informasi bahwa setiap pertambahan skor yang diberikan oleh pengguna dan kritikus tidak menjadikan penjualan games bertambah secara dramatis. Informasi lain juga bisa dilihat berdasarkan genre game yang menunjukan bahwa game bertemakan action merupakan yang paling populer sedangkan game bergenre strategi paling sedikit tingkat penjualannya."
   ]
  },
  {
   "cell_type": "code",
   "execution_count": 174,
   "id": "b472fc72",
   "metadata": {},
   "outputs": [
    {
     "data": {
      "text/html": [
       "<div>\n",
       "<style scoped>\n",
       "    .dataframe tbody tr th:only-of-type {\n",
       "        vertical-align: middle;\n",
       "    }\n",
       "\n",
       "    .dataframe tbody tr th {\n",
       "        vertical-align: top;\n",
       "    }\n",
       "\n",
       "    .dataframe thead th {\n",
       "        text-align: right;\n",
       "    }\n",
       "</style>\n",
       "<table border=\"1\" class=\"dataframe\">\n",
       "  <thead>\n",
       "    <tr style=\"text-align: right;\">\n",
       "      <th></th>\n",
       "      <th>name</th>\n",
       "      <th>platform</th>\n",
       "      <th>year_of_release</th>\n",
       "      <th>genre</th>\n",
       "      <th>na_sales</th>\n",
       "      <th>eu_sales</th>\n",
       "      <th>jp_sales</th>\n",
       "      <th>other_sales</th>\n",
       "      <th>critic_score</th>\n",
       "      <th>user_score</th>\n",
       "      <th>rating</th>\n",
       "      <th>total_sales</th>\n",
       "    </tr>\n",
       "  </thead>\n",
       "  <tbody>\n",
       "    <tr>\n",
       "      <th>0</th>\n",
       "      <td>Wii Sports</td>\n",
       "      <td>Wii</td>\n",
       "      <td>2006</td>\n",
       "      <td>Sports</td>\n",
       "      <td>41.36</td>\n",
       "      <td>28.96</td>\n",
       "      <td>3.77</td>\n",
       "      <td>8.45</td>\n",
       "      <td>76.0</td>\n",
       "      <td>8.0</td>\n",
       "      <td>E</td>\n",
       "      <td>82.54</td>\n",
       "    </tr>\n",
       "    <tr>\n",
       "      <th>2</th>\n",
       "      <td>Mario Kart Wii</td>\n",
       "      <td>Wii</td>\n",
       "      <td>2008</td>\n",
       "      <td>Racing</td>\n",
       "      <td>15.68</td>\n",
       "      <td>12.76</td>\n",
       "      <td>3.79</td>\n",
       "      <td>3.29</td>\n",
       "      <td>82.0</td>\n",
       "      <td>8.3</td>\n",
       "      <td>E</td>\n",
       "      <td>35.52</td>\n",
       "    </tr>\n",
       "    <tr>\n",
       "      <th>3</th>\n",
       "      <td>Wii Sports Resort</td>\n",
       "      <td>Wii</td>\n",
       "      <td>2009</td>\n",
       "      <td>Sports</td>\n",
       "      <td>15.61</td>\n",
       "      <td>10.93</td>\n",
       "      <td>3.28</td>\n",
       "      <td>2.95</td>\n",
       "      <td>80.0</td>\n",
       "      <td>8.0</td>\n",
       "      <td>E</td>\n",
       "      <td>32.77</td>\n",
       "    </tr>\n",
       "    <tr>\n",
       "      <th>6</th>\n",
       "      <td>New Super Mario Bros.</td>\n",
       "      <td>DS</td>\n",
       "      <td>2006</td>\n",
       "      <td>Platform</td>\n",
       "      <td>11.28</td>\n",
       "      <td>9.14</td>\n",
       "      <td>6.50</td>\n",
       "      <td>2.88</td>\n",
       "      <td>89.0</td>\n",
       "      <td>8.5</td>\n",
       "      <td>E</td>\n",
       "      <td>29.80</td>\n",
       "    </tr>\n",
       "    <tr>\n",
       "      <th>7</th>\n",
       "      <td>Wii Play</td>\n",
       "      <td>Wii</td>\n",
       "      <td>2006</td>\n",
       "      <td>Misc</td>\n",
       "      <td>13.96</td>\n",
       "      <td>9.18</td>\n",
       "      <td>2.93</td>\n",
       "      <td>2.84</td>\n",
       "      <td>58.0</td>\n",
       "      <td>6.6</td>\n",
       "      <td>E</td>\n",
       "      <td>28.91</td>\n",
       "    </tr>\n",
       "  </tbody>\n",
       "</table>\n",
       "</div>"
      ],
      "text/plain": [
       "                    name platform  year_of_release     genre  na_sales  \\\n",
       "0             Wii Sports      Wii             2006    Sports     41.36   \n",
       "2         Mario Kart Wii      Wii             2008    Racing     15.68   \n",
       "3      Wii Sports Resort      Wii             2009    Sports     15.61   \n",
       "6  New Super Mario Bros.       DS             2006  Platform     11.28   \n",
       "7               Wii Play      Wii             2006      Misc     13.96   \n",
       "\n",
       "   eu_sales  jp_sales  other_sales  critic_score  user_score rating  \\\n",
       "0     28.96      3.77         8.45          76.0         8.0      E   \n",
       "2     12.76      3.79         3.29          82.0         8.3      E   \n",
       "3     10.93      3.28         2.95          80.0         8.0      E   \n",
       "6      9.14      6.50         2.88          89.0         8.5      E   \n",
       "7      9.18      2.93         2.84          58.0         6.6      E   \n",
       "\n",
       "   total_sales  \n",
       "0        82.54  \n",
       "2        35.52  \n",
       "3        32.77  \n",
       "6        29.80  \n",
       "7        28.91  "
      ]
     },
     "execution_count": 174,
     "metadata": {},
     "output_type": "execute_result"
    }
   ],
   "source": [
    "#Tampilkan sampel data\n",
    "new_data.head()\n"
   ]
  },
  {
   "attachments": {},
   "cell_type": "markdown",
   "id": "f253ab7f",
   "metadata": {},
   "source": [
    "Berikut merupakan tampilan data setelah data untuk menunjukan penjualan pada tipa area yaitu Amerika Utara,Eropa,Jepang dan Wilayah lain. Pada tahap ini akan melakukan analisis data terhadap kinerja penjualan dari setiap wilayah. Informasi yang diharapkan dari tahapan ini adalah beberapa platform dan jenis permainan yang populer dari setiap wilayah. Informasi lain yang perlu dilakukan bagaimana korelasi dari skor terhadap penjualan di beberapa wilayah berikut"
   ]
  },
  {
   "cell_type": "code",
   "execution_count": 176,
   "id": "004665e0",
   "metadata": {},
   "outputs": [
    {
     "data": {
      "text/html": [
       "<div>\n",
       "<style scoped>\n",
       "    .dataframe tbody tr th:only-of-type {\n",
       "        vertical-align: middle;\n",
       "    }\n",
       "\n",
       "    .dataframe tbody tr th {\n",
       "        vertical-align: top;\n",
       "    }\n",
       "\n",
       "    .dataframe thead th {\n",
       "        text-align: right;\n",
       "    }\n",
       "</style>\n",
       "<table border=\"1\" class=\"dataframe\">\n",
       "  <thead>\n",
       "    <tr style=\"text-align: right;\">\n",
       "      <th></th>\n",
       "      <th>platform</th>\n",
       "      <th>genre</th>\n",
       "      <th>na_sales</th>\n",
       "      <th>user_score</th>\n",
       "      <th>critic_score</th>\n",
       "    </tr>\n",
       "  </thead>\n",
       "  <tbody>\n",
       "    <tr>\n",
       "      <th>150</th>\n",
       "      <td>X360</td>\n",
       "      <td>Shooter</td>\n",
       "      <td>171.71</td>\n",
       "      <td>1359.80</td>\n",
       "      <td>13957.0</td>\n",
       "    </tr>\n",
       "    <tr>\n",
       "      <th>128</th>\n",
       "      <td>Wii</td>\n",
       "      <td>Sports</td>\n",
       "      <td>149.72</td>\n",
       "      <td>1819.10</td>\n",
       "      <td>16749.0</td>\n",
       "    </tr>\n",
       "    <tr>\n",
       "      <th>142</th>\n",
       "      <td>X360</td>\n",
       "      <td>Action</td>\n",
       "      <td>140.61</td>\n",
       "      <td>2180.00</td>\n",
       "      <td>21590.0</td>\n",
       "    </tr>\n",
       "    <tr>\n",
       "      <th>70</th>\n",
       "      <td>PS3</td>\n",
       "      <td>Action</td>\n",
       "      <td>121.47</td>\n",
       "      <td>2649.70</td>\n",
       "      <td>26782.0</td>\n",
       "    </tr>\n",
       "    <tr>\n",
       "      <th>121</th>\n",
       "      <td>Wii</td>\n",
       "      <td>Misc</td>\n",
       "      <td>118.82</td>\n",
       "      <td>1955.25</td>\n",
       "      <td>17986.0</td>\n",
       "    </tr>\n",
       "    <tr>\n",
       "      <th>...</th>\n",
       "      <td>...</td>\n",
       "      <td>...</td>\n",
       "      <td>...</td>\n",
       "      <td>...</td>\n",
       "      <td>...</td>\n",
       "    </tr>\n",
       "    <tr>\n",
       "      <th>157</th>\n",
       "      <td>XB</td>\n",
       "      <td>Misc</td>\n",
       "      <td>0.02</td>\n",
       "      <td>8.00</td>\n",
       "      <td>61.0</td>\n",
       "    </tr>\n",
       "    <tr>\n",
       "      <th>115</th>\n",
       "      <td>PSV</td>\n",
       "      <td>Simulation</td>\n",
       "      <td>0.01</td>\n",
       "      <td>30.40</td>\n",
       "      <td>284.0</td>\n",
       "    </tr>\n",
       "    <tr>\n",
       "      <th>13</th>\n",
       "      <td>DC</td>\n",
       "      <td>Shooter</td>\n",
       "      <td>0.00</td>\n",
       "      <td>8.80</td>\n",
       "      <td>88.0</td>\n",
       "    </tr>\n",
       "    <tr>\n",
       "      <th>12</th>\n",
       "      <td>DC</td>\n",
       "      <td>Adventure</td>\n",
       "      <td>0.00</td>\n",
       "      <td>8.80</td>\n",
       "      <td>88.0</td>\n",
       "    </tr>\n",
       "    <tr>\n",
       "      <th>87</th>\n",
       "      <td>PS4</td>\n",
       "      <td>Puzzle</td>\n",
       "      <td>0.00</td>\n",
       "      <td>8.40</td>\n",
       "      <td>88.0</td>\n",
       "    </tr>\n",
       "  </tbody>\n",
       "</table>\n",
       "<p>175 rows × 5 columns</p>\n",
       "</div>"
      ],
      "text/plain": [
       "    platform       genre  na_sales  user_score  critic_score\n",
       "150     X360     Shooter    171.71     1359.80       13957.0\n",
       "128      Wii      Sports    149.72     1819.10       16749.0\n",
       "142     X360      Action    140.61     2180.00       21590.0\n",
       "70       PS3      Action    121.47     2649.70       26782.0\n",
       "121      Wii        Misc    118.82     1955.25       17986.0\n",
       "..       ...         ...       ...         ...           ...\n",
       "157       XB        Misc      0.02        8.00          61.0\n",
       "115      PSV  Simulation      0.01       30.40         284.0\n",
       "13        DC     Shooter      0.00        8.80          88.0\n",
       "12        DC   Adventure      0.00        8.80          88.0\n",
       "87       PS4      Puzzle      0.00        8.40          88.0\n",
       "\n",
       "[175 rows x 5 columns]"
      ]
     },
     "execution_count": 176,
     "metadata": {},
     "output_type": "execute_result"
    }
   ],
   "source": [
    "#tampilan penjulan berdasarkan wilayah Amerika Utara\n",
    "na_data = new_data.groupby(['platform','genre']).agg({'na_sales':'sum','user_score':'sum','critic_score': 'sum'}).reset_index().sort_values('na_sales', ascending= False)\n",
    "na_data"
   ]
  },
  {
   "cell_type": "code",
   "execution_count": 177,
   "id": "0a0baae6",
   "metadata": {},
   "outputs": [
    {
     "data": {
      "text/html": [
       "<div>\n",
       "<style scoped>\n",
       "    .dataframe tbody tr th:only-of-type {\n",
       "        vertical-align: middle;\n",
       "    }\n",
       "\n",
       "    .dataframe tbody tr th {\n",
       "        vertical-align: top;\n",
       "    }\n",
       "\n",
       "    .dataframe thead th {\n",
       "        text-align: right;\n",
       "    }\n",
       "</style>\n",
       "<table border=\"1\" class=\"dataframe\">\n",
       "  <thead>\n",
       "    <tr style=\"text-align: right;\">\n",
       "      <th></th>\n",
       "      <th>platform</th>\n",
       "      <th>genre</th>\n",
       "      <th>na_sales</th>\n",
       "      <th>user_score</th>\n",
       "      <th>critic_score</th>\n",
       "    </tr>\n",
       "  </thead>\n",
       "  <tbody>\n",
       "    <tr>\n",
       "      <th>150</th>\n",
       "      <td>X360</td>\n",
       "      <td>Shooter</td>\n",
       "      <td>171.71</td>\n",
       "      <td>1359.8</td>\n",
       "      <td>13957.0</td>\n",
       "    </tr>\n",
       "    <tr>\n",
       "      <th>142</th>\n",
       "      <td>X360</td>\n",
       "      <td>Action</td>\n",
       "      <td>140.61</td>\n",
       "      <td>2180.0</td>\n",
       "      <td>21590.0</td>\n",
       "    </tr>\n",
       "    <tr>\n",
       "      <th>152</th>\n",
       "      <td>X360</td>\n",
       "      <td>Sports</td>\n",
       "      <td>88.86</td>\n",
       "      <td>1362.5</td>\n",
       "      <td>14759.0</td>\n",
       "    </tr>\n",
       "    <tr>\n",
       "      <th>145</th>\n",
       "      <td>X360</td>\n",
       "      <td>Misc</td>\n",
       "      <td>63.66</td>\n",
       "      <td>853.6</td>\n",
       "      <td>8779.0</td>\n",
       "    </tr>\n",
       "    <tr>\n",
       "      <th>149</th>\n",
       "      <td>X360</td>\n",
       "      <td>Role-Playing</td>\n",
       "      <td>44.75</td>\n",
       "      <td>526.5</td>\n",
       "      <td>5371.0</td>\n",
       "    </tr>\n",
       "    <tr>\n",
       "      <th>148</th>\n",
       "      <td>X360</td>\n",
       "      <td>Racing</td>\n",
       "      <td>31.51</td>\n",
       "      <td>682.2</td>\n",
       "      <td>7110.0</td>\n",
       "    </tr>\n",
       "    <tr>\n",
       "      <th>144</th>\n",
       "      <td>X360</td>\n",
       "      <td>Fighting</td>\n",
       "      <td>24.31</td>\n",
       "      <td>436.1</td>\n",
       "      <td>4471.0</td>\n",
       "    </tr>\n",
       "    <tr>\n",
       "      <th>151</th>\n",
       "      <td>X360</td>\n",
       "      <td>Simulation</td>\n",
       "      <td>8.51</td>\n",
       "      <td>274.9</td>\n",
       "      <td>2649.0</td>\n",
       "    </tr>\n",
       "    <tr>\n",
       "      <th>143</th>\n",
       "      <td>X360</td>\n",
       "      <td>Adventure</td>\n",
       "      <td>8.44</td>\n",
       "      <td>322.2</td>\n",
       "      <td>3247.0</td>\n",
       "    </tr>\n",
       "    <tr>\n",
       "      <th>153</th>\n",
       "      <td>X360</td>\n",
       "      <td>Strategy</td>\n",
       "      <td>6.50</td>\n",
       "      <td>194.8</td>\n",
       "      <td>2011.0</td>\n",
       "    </tr>\n",
       "    <tr>\n",
       "      <th>146</th>\n",
       "      <td>X360</td>\n",
       "      <td>Platform</td>\n",
       "      <td>6.09</td>\n",
       "      <td>164.1</td>\n",
       "      <td>1656.0</td>\n",
       "    </tr>\n",
       "    <tr>\n",
       "      <th>147</th>\n",
       "      <td>X360</td>\n",
       "      <td>Puzzle</td>\n",
       "      <td>0.62</td>\n",
       "      <td>39.9</td>\n",
       "      <td>450.0</td>\n",
       "    </tr>\n",
       "  </tbody>\n",
       "</table>\n",
       "</div>"
      ],
      "text/plain": [
       "    platform         genre  na_sales  user_score  critic_score\n",
       "150     X360       Shooter    171.71      1359.8       13957.0\n",
       "142     X360        Action    140.61      2180.0       21590.0\n",
       "152     X360        Sports     88.86      1362.5       14759.0\n",
       "145     X360          Misc     63.66       853.6        8779.0\n",
       "149     X360  Role-Playing     44.75       526.5        5371.0\n",
       "148     X360        Racing     31.51       682.2        7110.0\n",
       "144     X360      Fighting     24.31       436.1        4471.0\n",
       "151     X360    Simulation      8.51       274.9        2649.0\n",
       "143     X360     Adventure      8.44       322.2        3247.0\n",
       "153     X360      Strategy      6.50       194.8        2011.0\n",
       "146     X360      Platform      6.09       164.1        1656.0\n",
       "147     X360        Puzzle      0.62        39.9         450.0"
      ]
     },
     "execution_count": 177,
     "metadata": {},
     "output_type": "execute_result"
    }
   ],
   "source": [
    "#filter data berdasarkan platform X360\n",
    "x360_data= na_data[na_data['platform'] == 'X360']\n",
    "x360_data"
   ]
  },
  {
   "cell_type": "code",
   "execution_count": 178,
   "id": "1c88ca05",
   "metadata": {},
   "outputs": [
    {
     "data": {
      "text/plain": [
       "<Axes: xlabel='user_score', ylabel='na_sales'>"
      ]
     },
     "execution_count": 178,
     "metadata": {},
     "output_type": "execute_result"
    },
    {
     "data": {
      "image/png": "[encoded data removed]",
      "text/plain": [
       "<Figure size 640x480 with 1 Axes>"
      ]
     },
     "metadata": {},
     "output_type": "display_data"
    }
   ],
   "source": [
    "#tampilan scatterplot dari skor yang diberikan pengguna\n",
    "wii_data.plot.scatter(y='na_sales',x='user_score')"
   ]
  },
  {
   "cell_type": "code",
   "execution_count": 179,
   "id": "eb1a1a21",
   "metadata": {},
   "outputs": [
    {
     "data": {
      "text/plain": [
       "<Axes: xlabel='critic_score', ylabel='na_sales'>"
      ]
     },
     "execution_count": 179,
     "metadata": {},
     "output_type": "execute_result"
    },
    {
     "data": {
      "image/png": "[encoded data removed]",
      "text/plain": [
       "<Figure size 640x480 with 1 Axes>"
      ]
     },
     "metadata": {},
     "output_type": "display_data"
    }
   ],
   "source": [
    "#tampilan scatterplot dari skor yang diberikan kritikus\n",
    "wii_data.plot.scatter(y='na_sales',x='critic_score')"
   ]
  },
  {
   "cell_type": "code",
   "execution_count": 180,
   "id": "b4d3dcc3",
   "metadata": {},
   "outputs": [
    {
     "data": {
      "text/html": [
       "<div>\n",
       "<style scoped>\n",
       "    .dataframe tbody tr th:only-of-type {\n",
       "        vertical-align: middle;\n",
       "    }\n",
       "\n",
       "    .dataframe tbody tr th {\n",
       "        vertical-align: top;\n",
       "    }\n",
       "\n",
       "    .dataframe thead th {\n",
       "        text-align: right;\n",
       "    }\n",
       "</style>\n",
       "<table border=\"1\" class=\"dataframe\">\n",
       "  <thead>\n",
       "    <tr style=\"text-align: right;\">\n",
       "      <th></th>\n",
       "      <th>platform</th>\n",
       "      <th>genre</th>\n",
       "      <th>eu_sales</th>\n",
       "      <th>user_score</th>\n",
       "      <th>critic_score</th>\n",
       "    </tr>\n",
       "  </thead>\n",
       "  <tbody>\n",
       "    <tr>\n",
       "      <th>70</th>\n",
       "      <td>PS3</td>\n",
       "      <td>Action</td>\n",
       "      <td>105.95</td>\n",
       "      <td>2649.7</td>\n",
       "      <td>26782.0</td>\n",
       "    </tr>\n",
       "    <tr>\n",
       "      <th>128</th>\n",
       "      <td>Wii</td>\n",
       "      <td>Sports</td>\n",
       "      <td>93.78</td>\n",
       "      <td>1819.1</td>\n",
       "      <td>16749.0</td>\n",
       "    </tr>\n",
       "    <tr>\n",
       "      <th>150</th>\n",
       "      <td>X360</td>\n",
       "      <td>Shooter</td>\n",
       "      <td>74.50</td>\n",
       "      <td>1359.8</td>\n",
       "      <td>13957.0</td>\n",
       "    </tr>\n",
       "    <tr>\n",
       "      <th>142</th>\n",
       "      <td>X360</td>\n",
       "      <td>Action</td>\n",
       "      <td>73.54</td>\n",
       "      <td>2180.0</td>\n",
       "      <td>21590.0</td>\n",
       "    </tr>\n",
       "    <tr>\n",
       "      <th>78</th>\n",
       "      <td>PS3</td>\n",
       "      <td>Shooter</td>\n",
       "      <td>72.64</td>\n",
       "      <td>1035.8</td>\n",
       "      <td>10894.0</td>\n",
       "    </tr>\n",
       "  </tbody>\n",
       "</table>\n",
       "</div>"
      ],
      "text/plain": [
       "    platform    genre  eu_sales  user_score  critic_score\n",
       "70       PS3   Action    105.95      2649.7       26782.0\n",
       "128      Wii   Sports     93.78      1819.1       16749.0\n",
       "150     X360  Shooter     74.50      1359.8       13957.0\n",
       "142     X360   Action     73.54      2180.0       21590.0\n",
       "78       PS3  Shooter     72.64      1035.8       10894.0"
      ]
     },
     "execution_count": 180,
     "metadata": {},
     "output_type": "execute_result"
    }
   ],
   "source": [
    "#tampilan penjulan berdasarkan wilayah Eropa\n",
    "eu_data= new_data.groupby(['platform','genre']).agg({'eu_sales':'sum','user_score':'sum','critic_score': 'sum'}).reset_index().sort_values('eu_sales', ascending= False)\n",
    "eu_data.head()"
   ]
  },
  {
   "cell_type": "code",
   "execution_count": 181,
   "id": "ebb055a3",
   "metadata": {},
   "outputs": [
    {
     "data": {
      "text/html": [
       "<div>\n",
       "<style scoped>\n",
       "    .dataframe tbody tr th:only-of-type {\n",
       "        vertical-align: middle;\n",
       "    }\n",
       "\n",
       "    .dataframe tbody tr th {\n",
       "        vertical-align: top;\n",
       "    }\n",
       "\n",
       "    .dataframe thead th {\n",
       "        text-align: right;\n",
       "    }\n",
       "</style>\n",
       "<table border=\"1\" class=\"dataframe\">\n",
       "  <thead>\n",
       "    <tr style=\"text-align: right;\">\n",
       "      <th></th>\n",
       "      <th>platform</th>\n",
       "      <th>genre</th>\n",
       "      <th>eu_sales</th>\n",
       "      <th>user_score</th>\n",
       "      <th>critic_score</th>\n",
       "    </tr>\n",
       "  </thead>\n",
       "  <tbody>\n",
       "    <tr>\n",
       "      <th>70</th>\n",
       "      <td>PS3</td>\n",
       "      <td>Action</td>\n",
       "      <td>105.95</td>\n",
       "      <td>2649.7</td>\n",
       "      <td>26782.0</td>\n",
       "    </tr>\n",
       "    <tr>\n",
       "      <th>78</th>\n",
       "      <td>PS3</td>\n",
       "      <td>Shooter</td>\n",
       "      <td>72.64</td>\n",
       "      <td>1035.8</td>\n",
       "      <td>10894.0</td>\n",
       "    </tr>\n",
       "    <tr>\n",
       "      <th>80</th>\n",
       "      <td>PS3</td>\n",
       "      <td>Sports</td>\n",
       "      <td>46.64</td>\n",
       "      <td>1388.8</td>\n",
       "      <td>15646.0</td>\n",
       "    </tr>\n",
       "    <tr>\n",
       "      <th>76</th>\n",
       "      <td>PS3</td>\n",
       "      <td>Racing</td>\n",
       "      <td>32.87</td>\n",
       "      <td>611.1</td>\n",
       "      <td>6640.0</td>\n",
       "    </tr>\n",
       "    <tr>\n",
       "      <th>77</th>\n",
       "      <td>PS3</td>\n",
       "      <td>Role-Playing</td>\n",
       "      <td>18.44</td>\n",
       "      <td>854.5</td>\n",
       "      <td>8496.0</td>\n",
       "    </tr>\n",
       "    <tr>\n",
       "      <th>73</th>\n",
       "      <td>PS3</td>\n",
       "      <td>Misc</td>\n",
       "      <td>16.16</td>\n",
       "      <td>862.4</td>\n",
       "      <td>9073.0</td>\n",
       "    </tr>\n",
       "    <tr>\n",
       "      <th>72</th>\n",
       "      <td>PS3</td>\n",
       "      <td>Fighting</td>\n",
       "      <td>14.11</td>\n",
       "      <td>548.7</td>\n",
       "      <td>5565.0</td>\n",
       "    </tr>\n",
       "    <tr>\n",
       "      <th>74</th>\n",
       "      <td>PS3</td>\n",
       "      <td>Platform</td>\n",
       "      <td>10.96</td>\n",
       "      <td>252.1</td>\n",
       "      <td>2599.0</td>\n",
       "    </tr>\n",
       "    <tr>\n",
       "      <th>71</th>\n",
       "      <td>PS3</td>\n",
       "      <td>Adventure</td>\n",
       "      <td>7.71</td>\n",
       "      <td>516.8</td>\n",
       "      <td>5308.0</td>\n",
       "    </tr>\n",
       "    <tr>\n",
       "      <th>79</th>\n",
       "      <td>PS3</td>\n",
       "      <td>Simulation</td>\n",
       "      <td>3.52</td>\n",
       "      <td>212.6</td>\n",
       "      <td>2059.0</td>\n",
       "    </tr>\n",
       "    <tr>\n",
       "      <th>81</th>\n",
       "      <td>PS3</td>\n",
       "      <td>Strategy</td>\n",
       "      <td>1.25</td>\n",
       "      <td>166.7</td>\n",
       "      <td>1732.0</td>\n",
       "    </tr>\n",
       "    <tr>\n",
       "      <th>75</th>\n",
       "      <td>PS3</td>\n",
       "      <td>Puzzle</td>\n",
       "      <td>0.04</td>\n",
       "      <td>23.4</td>\n",
       "      <td>223.0</td>\n",
       "    </tr>\n",
       "  </tbody>\n",
       "</table>\n",
       "</div>"
      ],
      "text/plain": [
       "   platform         genre  eu_sales  user_score  critic_score\n",
       "70      PS3        Action    105.95      2649.7       26782.0\n",
       "78      PS3       Shooter     72.64      1035.8       10894.0\n",
       "80      PS3        Sports     46.64      1388.8       15646.0\n",
       "76      PS3        Racing     32.87       611.1        6640.0\n",
       "77      PS3  Role-Playing     18.44       854.5        8496.0\n",
       "73      PS3          Misc     16.16       862.4        9073.0\n",
       "72      PS3      Fighting     14.11       548.7        5565.0\n",
       "74      PS3      Platform     10.96       252.1        2599.0\n",
       "71      PS3     Adventure      7.71       516.8        5308.0\n",
       "79      PS3    Simulation      3.52       212.6        2059.0\n",
       "81      PS3      Strategy      1.25       166.7        1732.0\n",
       "75      PS3        Puzzle      0.04        23.4         223.0"
      ]
     },
     "execution_count": 181,
     "metadata": {},
     "output_type": "execute_result"
    }
   ],
   "source": [
    "#filter data berdasarkan platform PS3\n",
    "ps3_data_eu = eu_data[eu_data['platform'] == 'PS3']\n",
    "ps3_data_eu"
   ]
  },
  {
   "cell_type": "code",
   "execution_count": 113,
   "id": "b5d88f80",
   "metadata": {},
   "outputs": [
    {
     "data": {
      "text/plain": [
       "<Axes: xlabel='user_score', ylabel='eu_sales'>"
      ]
     },
     "execution_count": 113,
     "metadata": {},
     "output_type": "execute_result"
    },
    {
     "data": {
      "image/png": "[encoded data removed]",
      "text/plain": [
       "<Figure size 640x480 with 1 Axes>"
      ]
     },
     "metadata": {},
     "output_type": "display_data"
    }
   ],
   "source": [
    "#tampilan scatterplot dari skor yang diberikan pengguna\n",
    "wii_data_eu.plot.scatter(y='eu_sales',x='user_score')"
   ]
  },
  {
   "cell_type": "code",
   "execution_count": 114,
   "id": "3146169e",
   "metadata": {},
   "outputs": [
    {
     "data": {
      "text/plain": [
       "<Axes: xlabel='critic_score', ylabel='eu_sales'>"
      ]
     },
     "execution_count": 114,
     "metadata": {},
     "output_type": "execute_result"
    },
    {
     "data": {
      "image/png": "[encoded data removed]",
      "text/plain": [
       "<Figure size 640x480 with 1 Axes>"
      ]
     },
     "metadata": {},
     "output_type": "display_data"
    }
   ],
   "source": [
    "#tampilan scatterplot dari skor yang diberikan kritikus\n",
    "wii_data_eu.plot.scatter(y='eu_sales',x='critic_score')"
   ]
  },
  {
   "cell_type": "code",
   "execution_count": 184,
   "id": "bbe9f825",
   "metadata": {},
   "outputs": [
    {
     "data": {
      "text/html": [
       "<div>\n",
       "<style scoped>\n",
       "    .dataframe tbody tr th:only-of-type {\n",
       "        vertical-align: middle;\n",
       "    }\n",
       "\n",
       "    .dataframe tbody tr th {\n",
       "        vertical-align: top;\n",
       "    }\n",
       "\n",
       "    .dataframe thead th {\n",
       "        text-align: right;\n",
       "    }\n",
       "</style>\n",
       "<table border=\"1\" class=\"dataframe\">\n",
       "  <thead>\n",
       "    <tr style=\"text-align: right;\">\n",
       "      <th></th>\n",
       "      <th>platform</th>\n",
       "      <th>genre</th>\n",
       "      <th>jp_sales</th>\n",
       "      <th>user_score</th>\n",
       "      <th>critic_score</th>\n",
       "    </tr>\n",
       "  </thead>\n",
       "  <tbody>\n",
       "    <tr>\n",
       "      <th>21</th>\n",
       "      <td>DS</td>\n",
       "      <td>Role-Playing</td>\n",
       "      <td>52.91</td>\n",
       "      <td>1433.1</td>\n",
       "      <td>12931.0</td>\n",
       "    </tr>\n",
       "    <tr>\n",
       "      <th>7</th>\n",
       "      <td>3DS</td>\n",
       "      <td>Role-Playing</td>\n",
       "      <td>41.99</td>\n",
       "      <td>638.5</td>\n",
       "      <td>6103.0</td>\n",
       "    </tr>\n",
       "    <tr>\n",
       "      <th>17</th>\n",
       "      <td>DS</td>\n",
       "      <td>Misc</td>\n",
       "      <td>30.96</td>\n",
       "      <td>2716.3</td>\n",
       "      <td>24300.0</td>\n",
       "    </tr>\n",
       "    <tr>\n",
       "      <th>70</th>\n",
       "      <td>PS3</td>\n",
       "      <td>Action</td>\n",
       "      <td>29.65</td>\n",
       "      <td>2649.7</td>\n",
       "      <td>26782.0</td>\n",
       "    </tr>\n",
       "    <tr>\n",
       "      <th>101</th>\n",
       "      <td>PSP</td>\n",
       "      <td>Role-Playing</td>\n",
       "      <td>29.34</td>\n",
       "      <td>1343.5</td>\n",
       "      <td>12304.0</td>\n",
       "    </tr>\n",
       "    <tr>\n",
       "      <th>...</th>\n",
       "      <td>...</td>\n",
       "      <td>...</td>\n",
       "      <td>...</td>\n",
       "      <td>...</td>\n",
       "      <td>...</td>\n",
       "    </tr>\n",
       "    <tr>\n",
       "      <th>55</th>\n",
       "      <td>PC</td>\n",
       "      <td>Simulation</td>\n",
       "      <td>0.00</td>\n",
       "      <td>594.5</td>\n",
       "      <td>6490.0</td>\n",
       "    </tr>\n",
       "    <tr>\n",
       "      <th>56</th>\n",
       "      <td>PC</td>\n",
       "      <td>Sports</td>\n",
       "      <td>0.00</td>\n",
       "      <td>265.4</td>\n",
       "      <td>3414.0</td>\n",
       "    </tr>\n",
       "    <tr>\n",
       "      <th>57</th>\n",
       "      <td>PC</td>\n",
       "      <td>Strategy</td>\n",
       "      <td>0.00</td>\n",
       "      <td>941.1</td>\n",
       "      <td>9958.0</td>\n",
       "    </tr>\n",
       "    <tr>\n",
       "      <th>63</th>\n",
       "      <td>PS2</td>\n",
       "      <td>Puzzle</td>\n",
       "      <td>0.00</td>\n",
       "      <td>47.0</td>\n",
       "      <td>431.0</td>\n",
       "    </tr>\n",
       "    <tr>\n",
       "      <th>174</th>\n",
       "      <td>XOne</td>\n",
       "      <td>Strategy</td>\n",
       "      <td>0.00</td>\n",
       "      <td>21.8</td>\n",
       "      <td>216.0</td>\n",
       "    </tr>\n",
       "  </tbody>\n",
       "</table>\n",
       "<p>175 rows × 5 columns</p>\n",
       "</div>"
      ],
      "text/plain": [
       "    platform         genre  jp_sales  user_score  critic_score\n",
       "21        DS  Role-Playing     52.91      1433.1       12931.0\n",
       "7        3DS  Role-Playing     41.99       638.5        6103.0\n",
       "17        DS          Misc     30.96      2716.3       24300.0\n",
       "70       PS3        Action     29.65      2649.7       26782.0\n",
       "101      PSP  Role-Playing     29.34      1343.5       12304.0\n",
       "..       ...           ...       ...         ...           ...\n",
       "55        PC    Simulation      0.00       594.5        6490.0\n",
       "56        PC        Sports      0.00       265.4        3414.0\n",
       "57        PC      Strategy      0.00       941.1        9958.0\n",
       "63       PS2        Puzzle      0.00        47.0         431.0\n",
       "174     XOne      Strategy      0.00        21.8         216.0\n",
       "\n",
       "[175 rows x 5 columns]"
      ]
     },
     "execution_count": 184,
     "metadata": {},
     "output_type": "execute_result"
    }
   ],
   "source": [
    "#tampilan penjulan berdasarkan wilayah Jepang\n",
    "jp_data = new_data.groupby(['platform','genre']).agg({'jp_sales':'sum','user_score':'sum','critic_score': 'sum'}).reset_index().sort_values('jp_sales', ascending= False)\n",
    "jp_data"
   ]
  },
  {
   "cell_type": "code",
   "execution_count": 188,
   "id": "e95a3131",
   "metadata": {},
   "outputs": [
    {
     "data": {
      "text/html": [
       "<div>\n",
       "<style scoped>\n",
       "    .dataframe tbody tr th:only-of-type {\n",
       "        vertical-align: middle;\n",
       "    }\n",
       "\n",
       "    .dataframe tbody tr th {\n",
       "        vertical-align: top;\n",
       "    }\n",
       "\n",
       "    .dataframe thead th {\n",
       "        text-align: right;\n",
       "    }\n",
       "</style>\n",
       "<table border=\"1\" class=\"dataframe\">\n",
       "  <thead>\n",
       "    <tr style=\"text-align: right;\">\n",
       "      <th></th>\n",
       "      <th>platform</th>\n",
       "      <th>genre</th>\n",
       "      <th>jp_sales</th>\n",
       "      <th>user_score</th>\n",
       "      <th>critic_score</th>\n",
       "    </tr>\n",
       "  </thead>\n",
       "  <tbody>\n",
       "    <tr>\n",
       "      <th>21</th>\n",
       "      <td>DS</td>\n",
       "      <td>Role-Playing</td>\n",
       "      <td>52.91</td>\n",
       "      <td>1433.1</td>\n",
       "      <td>12931.0</td>\n",
       "    </tr>\n",
       "    <tr>\n",
       "      <th>17</th>\n",
       "      <td>DS</td>\n",
       "      <td>Misc</td>\n",
       "      <td>30.96</td>\n",
       "      <td>2716.3</td>\n",
       "      <td>24300.0</td>\n",
       "    </tr>\n",
       "    <tr>\n",
       "      <th>14</th>\n",
       "      <td>DS</td>\n",
       "      <td>Action</td>\n",
       "      <td>12.05</td>\n",
       "      <td>2298.6</td>\n",
       "      <td>20108.0</td>\n",
       "    </tr>\n",
       "    <tr>\n",
       "      <th>18</th>\n",
       "      <td>DS</td>\n",
       "      <td>Platform</td>\n",
       "      <td>12.04</td>\n",
       "      <td>548.9</td>\n",
       "      <td>5003.0</td>\n",
       "    </tr>\n",
       "    <tr>\n",
       "      <th>19</th>\n",
       "      <td>DS</td>\n",
       "      <td>Puzzle</td>\n",
       "      <td>8.42</td>\n",
       "      <td>1575.9</td>\n",
       "      <td>14213.0</td>\n",
       "    </tr>\n",
       "  </tbody>\n",
       "</table>\n",
       "</div>"
      ],
      "text/plain": [
       "   platform         genre  jp_sales  user_score  critic_score\n",
       "21       DS  Role-Playing     52.91      1433.1       12931.0\n",
       "17       DS          Misc     30.96      2716.3       24300.0\n",
       "14       DS        Action     12.05      2298.6       20108.0\n",
       "18       DS      Platform     12.04       548.9        5003.0\n",
       "19       DS        Puzzle      8.42      1575.9       14213.0"
      ]
     },
     "execution_count": 188,
     "metadata": {},
     "output_type": "execute_result"
    }
   ],
   "source": [
    "#filter data berdasarkan platform Wii \n",
    "ds_data = jp_data[jp_data['platform'] == 'DS']\n",
    "ds_data.head()"
   ]
  },
  {
   "cell_type": "code",
   "execution_count": 186,
   "id": "c80dae18",
   "metadata": {},
   "outputs": [
    {
     "data": {
      "text/plain": [
       "<Axes: xlabel='user_score', ylabel='jp_sales'>"
      ]
     },
     "execution_count": 186,
     "metadata": {},
     "output_type": "execute_result"
    },
    {
     "data": {
      "image/png": "[encoded data removed]",
      "text/plain": [
       "<Figure size 640x480 with 1 Axes>"
      ]
     },
     "metadata": {},
     "output_type": "display_data"
    }
   ],
   "source": [
    "#tampilan scatterplot dari skor yang diberikan pengguna\n",
    "ds_data.plot.scatter(y='jp_sales',x='user_score')"
   ]
  },
  {
   "cell_type": "code",
   "execution_count": 189,
   "id": "933615ab",
   "metadata": {},
   "outputs": [
    {
     "data": {
      "text/plain": [
       "<Axes: xlabel='critic_score', ylabel='jp_sales'>"
      ]
     },
     "execution_count": 189,
     "metadata": {},
     "output_type": "execute_result"
    },
    {
     "data": {
      "image/png": "[encoded data removed]",
      "text/plain": [
       "<Figure size 640x480 with 1 Axes>"
      ]
     },
     "metadata": {},
     "output_type": "display_data"
    }
   ],
   "source": [
    "#tampilan scatterplot dari skor yang diberikan kritikus\n",
    "ds_data.plot.scatter(y='jp_sales',x='critic_score')"
   ]
  },
  {
   "cell_type": "code",
   "execution_count": 190,
   "id": "7a0495b6",
   "metadata": {},
   "outputs": [
    {
     "data": {
      "text/html": [
       "<div>\n",
       "<style scoped>\n",
       "    .dataframe tbody tr th:only-of-type {\n",
       "        vertical-align: middle;\n",
       "    }\n",
       "\n",
       "    .dataframe tbody tr th {\n",
       "        vertical-align: top;\n",
       "    }\n",
       "\n",
       "    .dataframe thead th {\n",
       "        text-align: right;\n",
       "    }\n",
       "</style>\n",
       "<table border=\"1\" class=\"dataframe\">\n",
       "  <thead>\n",
       "    <tr style=\"text-align: right;\">\n",
       "      <th></th>\n",
       "      <th>platform</th>\n",
       "      <th>genre</th>\n",
       "      <th>other_sales</th>\n",
       "      <th>user_score</th>\n",
       "      <th>critic_score</th>\n",
       "    </tr>\n",
       "  </thead>\n",
       "  <tbody>\n",
       "    <tr>\n",
       "      <th>70</th>\n",
       "      <td>PS3</td>\n",
       "      <td>Action</td>\n",
       "      <td>44.52</td>\n",
       "      <td>2649.7</td>\n",
       "      <td>26782.0</td>\n",
       "    </tr>\n",
       "    <tr>\n",
       "      <th>78</th>\n",
       "      <td>PS3</td>\n",
       "      <td>Shooter</td>\n",
       "      <td>29.06</td>\n",
       "      <td>1035.8</td>\n",
       "      <td>10894.0</td>\n",
       "    </tr>\n",
       "    <tr>\n",
       "      <th>128</th>\n",
       "      <td>Wii</td>\n",
       "      <td>Sports</td>\n",
       "      <td>26.79</td>\n",
       "      <td>1819.1</td>\n",
       "      <td>16749.0</td>\n",
       "    </tr>\n",
       "    <tr>\n",
       "      <th>150</th>\n",
       "      <td>X360</td>\n",
       "      <td>Shooter</td>\n",
       "      <td>24.48</td>\n",
       "      <td>1359.8</td>\n",
       "      <td>13957.0</td>\n",
       "    </tr>\n",
       "    <tr>\n",
       "      <th>142</th>\n",
       "      <td>X360</td>\n",
       "      <td>Action</td>\n",
       "      <td>21.49</td>\n",
       "      <td>2180.0</td>\n",
       "      <td>21590.0</td>\n",
       "    </tr>\n",
       "    <tr>\n",
       "      <th>...</th>\n",
       "      <td>...</td>\n",
       "      <td>...</td>\n",
       "      <td>...</td>\n",
       "      <td>...</td>\n",
       "      <td>...</td>\n",
       "    </tr>\n",
       "    <tr>\n",
       "      <th>39</th>\n",
       "      <td>GC</td>\n",
       "      <td>Misc</td>\n",
       "      <td>0.00</td>\n",
       "      <td>17.2</td>\n",
       "      <td>137.0</td>\n",
       "    </tr>\n",
       "    <tr>\n",
       "      <th>42</th>\n",
       "      <td>GC</td>\n",
       "      <td>Role-Playing</td>\n",
       "      <td>0.00</td>\n",
       "      <td>8.9</td>\n",
       "      <td>75.0</td>\n",
       "    </tr>\n",
       "    <tr>\n",
       "      <th>43</th>\n",
       "      <td>GC</td>\n",
       "      <td>Shooter</td>\n",
       "      <td>0.00</td>\n",
       "      <td>5.2</td>\n",
       "      <td>51.0</td>\n",
       "    </tr>\n",
       "    <tr>\n",
       "      <th>115</th>\n",
       "      <td>PSV</td>\n",
       "      <td>Simulation</td>\n",
       "      <td>0.00</td>\n",
       "      <td>30.4</td>\n",
       "      <td>284.0</td>\n",
       "    </tr>\n",
       "    <tr>\n",
       "      <th>87</th>\n",
       "      <td>PS4</td>\n",
       "      <td>Puzzle</td>\n",
       "      <td>0.00</td>\n",
       "      <td>8.4</td>\n",
       "      <td>88.0</td>\n",
       "    </tr>\n",
       "  </tbody>\n",
       "</table>\n",
       "<p>175 rows × 5 columns</p>\n",
       "</div>"
      ],
      "text/plain": [
       "    platform         genre  other_sales  user_score  critic_score\n",
       "70       PS3        Action        44.52      2649.7       26782.0\n",
       "78       PS3       Shooter        29.06      1035.8       10894.0\n",
       "128      Wii        Sports        26.79      1819.1       16749.0\n",
       "150     X360       Shooter        24.48      1359.8       13957.0\n",
       "142     X360        Action        21.49      2180.0       21590.0\n",
       "..       ...           ...          ...         ...           ...\n",
       "39        GC          Misc         0.00        17.2         137.0\n",
       "42        GC  Role-Playing         0.00         8.9          75.0\n",
       "43        GC       Shooter         0.00         5.2          51.0\n",
       "115      PSV    Simulation         0.00        30.4         284.0\n",
       "87       PS4        Puzzle         0.00         8.4          88.0\n",
       "\n",
       "[175 rows x 5 columns]"
      ]
     },
     "execution_count": 190,
     "metadata": {},
     "output_type": "execute_result"
    }
   ],
   "source": [
    "#tampilan penjulan berdasarkan wilayah lain\n",
    "other_data = new_data.groupby(['platform','genre']).agg({'other_sales':'sum','user_score':'sum','critic_score': 'sum'}).reset_index().sort_values('other_sales', ascending= False)\n",
    "other_data"
   ]
  },
  {
   "cell_type": "code",
   "execution_count": 191,
   "id": "3c9f2e9a",
   "metadata": {},
   "outputs": [
    {
     "data": {
      "text/html": [
       "<div>\n",
       "<style scoped>\n",
       "    .dataframe tbody tr th:only-of-type {\n",
       "        vertical-align: middle;\n",
       "    }\n",
       "\n",
       "    .dataframe tbody tr th {\n",
       "        vertical-align: top;\n",
       "    }\n",
       "\n",
       "    .dataframe thead th {\n",
       "        text-align: right;\n",
       "    }\n",
       "</style>\n",
       "<table border=\"1\" class=\"dataframe\">\n",
       "  <thead>\n",
       "    <tr style=\"text-align: right;\">\n",
       "      <th></th>\n",
       "      <th>platform</th>\n",
       "      <th>genre</th>\n",
       "      <th>other_sales</th>\n",
       "      <th>user_score</th>\n",
       "      <th>critic_score</th>\n",
       "    </tr>\n",
       "  </thead>\n",
       "  <tbody>\n",
       "    <tr>\n",
       "      <th>70</th>\n",
       "      <td>PS3</td>\n",
       "      <td>Action</td>\n",
       "      <td>44.52</td>\n",
       "      <td>2649.7</td>\n",
       "      <td>26782.0</td>\n",
       "    </tr>\n",
       "    <tr>\n",
       "      <th>78</th>\n",
       "      <td>PS3</td>\n",
       "      <td>Shooter</td>\n",
       "      <td>29.06</td>\n",
       "      <td>1035.8</td>\n",
       "      <td>10894.0</td>\n",
       "    </tr>\n",
       "    <tr>\n",
       "      <th>80</th>\n",
       "      <td>PS3</td>\n",
       "      <td>Sports</td>\n",
       "      <td>18.27</td>\n",
       "      <td>1388.8</td>\n",
       "      <td>15646.0</td>\n",
       "    </tr>\n",
       "    <tr>\n",
       "      <th>76</th>\n",
       "      <td>PS3</td>\n",
       "      <td>Racing</td>\n",
       "      <td>12.24</td>\n",
       "      <td>611.1</td>\n",
       "      <td>6640.0</td>\n",
       "    </tr>\n",
       "    <tr>\n",
       "      <th>77</th>\n",
       "      <td>PS3</td>\n",
       "      <td>Role-Playing</td>\n",
       "      <td>8.49</td>\n",
       "      <td>854.5</td>\n",
       "      <td>8496.0</td>\n",
       "    </tr>\n",
       "    <tr>\n",
       "      <th>73</th>\n",
       "      <td>PS3</td>\n",
       "      <td>Misc</td>\n",
       "      <td>6.61</td>\n",
       "      <td>862.4</td>\n",
       "      <td>9073.0</td>\n",
       "    </tr>\n",
       "    <tr>\n",
       "      <th>72</th>\n",
       "      <td>PS3</td>\n",
       "      <td>Fighting</td>\n",
       "      <td>6.56</td>\n",
       "      <td>548.7</td>\n",
       "      <td>5565.0</td>\n",
       "    </tr>\n",
       "    <tr>\n",
       "      <th>74</th>\n",
       "      <td>PS3</td>\n",
       "      <td>Platform</td>\n",
       "      <td>4.89</td>\n",
       "      <td>252.1</td>\n",
       "      <td>2599.0</td>\n",
       "    </tr>\n",
       "    <tr>\n",
       "      <th>71</th>\n",
       "      <td>PS3</td>\n",
       "      <td>Adventure</td>\n",
       "      <td>3.13</td>\n",
       "      <td>516.8</td>\n",
       "      <td>5308.0</td>\n",
       "    </tr>\n",
       "    <tr>\n",
       "      <th>79</th>\n",
       "      <td>PS3</td>\n",
       "      <td>Simulation</td>\n",
       "      <td>1.29</td>\n",
       "      <td>212.6</td>\n",
       "      <td>2059.0</td>\n",
       "    </tr>\n",
       "    <tr>\n",
       "      <th>81</th>\n",
       "      <td>PS3</td>\n",
       "      <td>Strategy</td>\n",
       "      <td>0.56</td>\n",
       "      <td>166.7</td>\n",
       "      <td>1732.0</td>\n",
       "    </tr>\n",
       "    <tr>\n",
       "      <th>75</th>\n",
       "      <td>PS3</td>\n",
       "      <td>Puzzle</td>\n",
       "      <td>0.06</td>\n",
       "      <td>23.4</td>\n",
       "      <td>223.0</td>\n",
       "    </tr>\n",
       "  </tbody>\n",
       "</table>\n",
       "</div>"
      ],
      "text/plain": [
       "   platform         genre  other_sales  user_score  critic_score\n",
       "70      PS3        Action        44.52      2649.7       26782.0\n",
       "78      PS3       Shooter        29.06      1035.8       10894.0\n",
       "80      PS3        Sports        18.27      1388.8       15646.0\n",
       "76      PS3        Racing        12.24       611.1        6640.0\n",
       "77      PS3  Role-Playing         8.49       854.5        8496.0\n",
       "73      PS3          Misc         6.61       862.4        9073.0\n",
       "72      PS3      Fighting         6.56       548.7        5565.0\n",
       "74      PS3      Platform         4.89       252.1        2599.0\n",
       "71      PS3     Adventure         3.13       516.8        5308.0\n",
       "79      PS3    Simulation         1.29       212.6        2059.0\n",
       "81      PS3      Strategy         0.56       166.7        1732.0\n",
       "75      PS3        Puzzle         0.06        23.4         223.0"
      ]
     },
     "execution_count": 191,
     "metadata": {},
     "output_type": "execute_result"
    }
   ],
   "source": [
    "#filter data berdasarkan platform PS3\n",
    "ps3_data = other_data[other_data['platform'] == 'PS3']\n",
    "ps3_data"
   ]
  },
  {
   "cell_type": "code",
   "execution_count": 192,
   "id": "c780853f",
   "metadata": {},
   "outputs": [
    {
     "data": {
      "text/plain": [
       "<Axes: xlabel='user_score', ylabel='other_sales'>"
      ]
     },
     "execution_count": 192,
     "metadata": {},
     "output_type": "execute_result"
    },
    {
     "data": {
      "image/png": "[encoded data removed]",
      "text/plain": [
       "<Figure size 640x480 with 1 Axes>"
      ]
     },
     "metadata": {},
     "output_type": "display_data"
    }
   ],
   "source": [
    "#tampilan scatterplot dari skor yang diberikan kritikus\n",
    "ps3_data.plot.scatter(y='other_sales',x='user_score')"
   ]
  },
  {
   "cell_type": "code",
   "execution_count": 193,
   "id": "282ee722",
   "metadata": {},
   "outputs": [
    {
     "data": {
      "text/plain": [
       "<Axes: xlabel='critic_score', ylabel='other_sales'>"
      ]
     },
     "execution_count": 193,
     "metadata": {},
     "output_type": "execute_result"
    },
    {
     "data": {
      "image/png": "[encoded data removed]",
      "text/plain": [
       "<Figure size 640x480 with 1 Axes>"
      ]
     },
     "metadata": {},
     "output_type": "display_data"
    }
   ],
   "source": [
    "#tampilan scatterplot dari skor yang diberikan kritikus\n",
    "ps3_data.plot.scatter(y='other_sales',x='critic_score')"
   ]
  },
  {
   "attachments": {},
   "cell_type": "markdown",
   "id": "99cd53b6",
   "metadata": {},
   "source": [
    "# 4. Uji Hipotesis"
   ]
  },
  {
   "attachments": {},
   "cell_type": "markdown",
   "id": "e7e87e84",
   "metadata": {},
   "source": [
    "Pada tahap terakhir adalah untuk menguji hipotesis dengan pendekatan statistik untuk studi kasus berikut akan menguji apakah platform game nilai rata-rata skor Xone sama dengan nilai rata-rata dari game PC. Pengujian selanjutnya adalah apakah nilai rata-rata skor yang diberikan pengguna kepada genre action dan sport berbeda. Untuk menguji hipotesis bahwa nilai rata-rata dari kedua sampel nilai sama maka bisa menggunakan library scipy dengan metode ttest. Ini adalah tes untuk hipotesis nol bahwa dua sampel independen memiliki nilai rata-rata (harapan) yang identik. Tes ini mengasumsikan bahwa populasi memiliki varian identik secara default. Dengan memasukan dua parameter yang ingin dibandingkan dan parameter lain yang juga perlu dimasukan adalah equal variance dimana terdapat dua pilihan True atau False. True memberikan pernyataan bahwa kedua sampel memiliki varian yang sama sedangkan False menunjukan kedua data memiliki varian berbeda.Selajutnya membuat model pengujian dengan dengan menentukan nilai alpha. Penentuan nilai alpha dilakukan berdasarkan risiko dari pengunjian yang diinginkan. Pada kasus yang meneliti dalam hal bidang industri khususnya dalam hal ini adalah industri game maka nilai alpha yang digunakan adalah 0.05. Terakhir adalah memastikan bahwa ketentuan dari nilai pvalue terhadapa nilai alpha untuk mengambil keputusan berdasarkan hipotesis yang dibuat."
   ]
  },
  {
   "cell_type": "code",
   "execution_count": 233,
   "id": "8bf1adab",
   "metadata": {},
   "outputs": [],
   "source": [
    "#membuat variabel data dari platform Xone dan PC\n",
    "xone_data = new_data[new_data['platform'] == 'XOne']\n",
    "pc_data = new_data[new_data['platform'] == 'PC']"
   ]
  },
  {
   "cell_type": "code",
   "execution_count": 234,
   "id": "7cc9c342",
   "metadata": {},
   "outputs": [
    {
     "data": {
      "text/plain": [
       "count    247.000000\n",
       "mean       6.594737\n",
       "std        1.190892\n",
       "min        1.600000\n",
       "25%        6.100000\n",
       "50%        6.800000\n",
       "75%        7.200000\n",
       "max        9.200000\n",
       "Name: user_score, dtype: float64"
      ]
     },
     "execution_count": 234,
     "metadata": {},
     "output_type": "execute_result"
    }
   ],
   "source": [
    "#Cek informasi\n",
    "xone_data['user_score'].describe()"
   ]
  },
  {
   "cell_type": "code",
   "execution_count": 235,
   "id": "8be4846e",
   "metadata": {},
   "outputs": [
    {
     "data": {
      "text/plain": [
       "count    793.000000\n",
       "mean       6.968852\n",
       "std        1.379760\n",
       "min        1.400000\n",
       "25%        6.400000\n",
       "50%        7.500000\n",
       "75%        7.800000\n",
       "max        9.300000\n",
       "Name: user_score, dtype: float64"
      ]
     },
     "execution_count": 235,
     "metadata": {},
     "output_type": "execute_result"
    }
   ],
   "source": [
    "#cek informasi\n",
    "pc_data['user_score'].describe()"
   ]
  },
  {
   "attachments": {},
   "cell_type": "markdown",
   "id": "44017382",
   "metadata": {},
   "source": [
    "Berdasarkan penjelasan sebelumnya bahwa metode ttest secara default hipotesis nol memiliki nilai rata-rata yang identik maka:\n",
    "\n",
    "Hipotesis nol : nilai rata-rata skor dari pengguna  platform XOne dan PC adalah sama\n",
    "\n",
    "Hipotesis alternatif : nilai rata-rata skor dari pengguna  platform XOne dan PC adalah  tidak sama\n",
    "\n"
   ]
  },
  {
   "cell_type": "code",
   "execution_count": 237,
   "id": "a16174c2",
   "metadata": {},
   "outputs": [
    {
     "name": "stdout",
     "output_type": "stream",
     "text": [
      "p-value: 4.015822300144783e-05\n",
      "Kita menolak hipotesis nol bahwa rata-rata rating dari pengguna platform XOne dan PC adalah sama\n"
     ]
    }
   ],
   "source": [
    "#Uji t-test\n",
    "\n",
    "alpha = 0.05 \n",
    "\n",
    "results = st.ttest_ind(xone_data['user_score'], pc_data['user_score'], equal_var=False)\n",
    "print('p-value:', results.pvalue)\n",
    "\n",
    "if results.pvalue < alpha:\n",
    "    print('Kita menolak hipotesis nol bahwa rata-rata rating dari pengguna platform XOne dan PC adalah sama')\n",
    "else:\n",
    "    print('Kita tidak dapat menolak hipotesis nol bahwa rata-rata rating dari pengguna platform XOne dan PC adalah sama')"
   ]
  },
  {
   "cell_type": "code",
   "execution_count": 240,
   "id": "fd2a226a",
   "metadata": {},
   "outputs": [],
   "source": [
    "#membuat variabel data dari platform action dan sport\n",
    "action_data = new_data[new_data['genre'] == 'Action']\n",
    "sport_data = new_data[new_data['genre'] == 'Sports']\n"
   ]
  },
  {
   "cell_type": "code",
   "execution_count": 223,
   "id": "370dfc4c",
   "metadata": {},
   "outputs": [
    {
     "data": {
      "text/plain": [
       "count    2420.000000\n",
       "mean        7.075475\n",
       "std         1.055372\n",
       "min         0.300000\n",
       "25%         6.900000\n",
       "50%         7.300000\n",
       "75%         7.600000\n",
       "max         9.500000\n",
       "Name: user_score, dtype: float64"
      ]
     },
     "execution_count": 223,
     "metadata": {},
     "output_type": "execute_result"
    }
   ],
   "source": [
    "#cek informasi\n",
    "action_data['user_score'].describe()"
   ]
  },
  {
   "cell_type": "code",
   "execution_count": 229,
   "id": "9b71dba9",
   "metadata": {},
   "outputs": [
    {
     "data": {
      "text/plain": [
       "count    1283.000000\n",
       "mean        6.851364\n",
       "std         1.305745\n",
       "min         0.200000\n",
       "25%         6.700000\n",
       "50%         7.150000\n",
       "75%         7.500000\n",
       "max         9.300000\n",
       "Name: user_score, dtype: float64"
      ]
     },
     "execution_count": 229,
     "metadata": {},
     "output_type": "execute_result"
    }
   ],
   "source": [
    "#cek informasi\n",
    "sport_data['user_score'].describe()"
   ]
  },
  {
   "attachments": {},
   "cell_type": "markdown",
   "id": "1606b616",
   "metadata": {},
   "source": [
    "Berdasarkan penjelasan sebelumnya bahwa metode ttest secara default hipotesis nol memiliki nilai rata-rata yang identik maka:\n",
    "\n",
    "Hipotesis nol : nilai rata-rata skor dari pengguna  genre action dan sport adalah sama\n",
    "\n",
    "Hipotesis alternatif : nilai rata-rata skor dari pengguna  genre action dan sport adalah  tidak sama\n",
    "\n"
   ]
  },
  {
   "cell_type": "code",
   "execution_count": 241,
   "id": "f5836dac",
   "metadata": {},
   "outputs": [
    {
     "name": "stdout",
     "output_type": "stream",
     "text": [
      "p-value: 0.046460901135440796\n",
      "Kita menolak hipotesis nol bahwa rata-rata rating dari pengguna genre action dan sport adalah sama\n"
     ]
    }
   ],
   "source": [
    "#uji test\n",
    "\n",
    "alpha = 0.05 \n",
    "\n",
    "results = st.ttest_ind(action_data['user_score'], pc_data['user_score'], equal_var=False)\n",
    "print('p-value:', results.pvalue)\n",
    "\n",
    "if results.pvalue < alpha:\n",
    "    print('Kita menolak hipotesis nol bahwa rata-rata rating dari pengguna genre action dan sport adalah sama')\n",
    "else:\n",
    "    print('Kita tidak dapat menolak hipotesis nol bahwa rata-rata rating dari pengguna genre action dan sport adalah sama')"
   ]
  },
  {
   "attachments": {},
   "cell_type": "markdown",
   "id": "f98520ff",
   "metadata": {},
   "source": [
    "# 5. Kesimpulan"
   ]
  },
  {
   "attachments": {},
   "cell_type": "markdown",
   "id": "bda9d548",
   "metadata": {},
   "source": [
    "Kesimpulan yang bisa diambil setelah melakukan proses mulai dari perbaikan data yaitu missing value dengan melakukan penghapusan data dan imputasi untuk melengkapi nilai data yang hilang sehingga data mengalami peningkatan kualitas untuk tahap selanjutnya. Setelah melakukan persiapan data, studi kasus ini memberikan informasi mengenai tingkat penjuaan yang dibagi peformanya berdasarkan genre dan platformnya. Nilai skor yang diberikan oleh pengguna atau kritikus menunjukan sedikit korelasi terhadap penjualan games. Pada penelitian ini juga memberikan informasi mengenai bagaimana kondisi penjualan game pada wilayah Amerika Utara,Eropa, Jepan dan beberapa wilayah lain. Hasil berbeda ditunjukan dari nilai skor yang diberikan pengguna dan kritikus untuk games yang populer bahwa nilai yang mereka berikan memiliki korelasi yng cukup kuat terhadap tingkat penjuala. Dari hasil hipotesis menunjukan pengujian menolak hipotesis bahwa peringkat pengguna rata-rata dari platform Xbox One dan PC  dan pengguna rata-rata untuk genre Aksi dan Olahraga sama."
   ]
  }
 ],
 "metadata": {
  "kernelspec": {
   "display_name": "proyek_integrasi-ndwM0Nqh",
   "language": "python",
   "name": "python3"
  },
  "language_info": {
   "codemirror_mode": {
    "name": "ipython",
    "version": 3
   },
   "file_extension": ".py",
   "mimetype": "text/x-python",
   "name": "python",
   "nbconvert_exporter": "python",
   "pygments_lexer": "ipython3",
   "version": "3.9.16"
  }
 },
 "nbformat": 4,
 "nbformat_minor": 5
}
